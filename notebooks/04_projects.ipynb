{
 "cells": [
  {
   "cell_type": "markdown",
   "id": "313ff2d4-9c8f-4b08-a429-44c008258ddc",
   "metadata": {},
   "source": [
    "# Projects"
   ]
  },
  {
   "cell_type": "markdown",
   "id": "35da1b3a-e55e-4a24-b0dd-cf5c0803d22f",
   "metadata": {},
   "source": [
    "## Section 1: Hodgkin-Huxley Model"
   ]
  },
  {
   "cell_type": "markdown",
   "id": "a9fb2acf-d2a5-4ba2-99ae-9dd2e9e9de07",
   "metadata": {},
   "source": [
    "### Project 1.1: Implement a single-compartment HH Model"
   ]
  },
  {
   "cell_type": "markdown",
   "id": "1ed8d069-a6c9-427f-8924-6af6a7a41e42",
   "metadata": {},
   "source": [
    "Simulate a 1-compartment HH model.\n",
    "1. Plot every aspect of the model as it changes over time ($V(t), \\frac{dV}{dt}, n, m, h)\n",
    "2. Devise a way to determine the spike times and calculate ISIs\n",
    "3. Plot an FI-curve.\n",
    "4. Refractoriness is __ . Extract the refractory period from the HH voltage trace.\n",
    "5. Numerically calculate the rheobase. Does this model exhibit adaptation?\n",
    "6. Compare to LIF. Can LIF parameters be adjusted to approximate the HH voltage trace output or spike times?\n",
    "7. Set the random seed and add noise to the model.\n",
    "    - How does this affect the FI-curve and rheobase?\n",
    "\n",
    "NOTE: Provide the HH model and a table of parameters"
   ]
  },
  {
   "cell_type": "markdown",
   "id": "a775235d-71a8-4174-8fc1-9338f5c0f864",
   "metadata": {},
   "source": [
    "### Project 1.2: Add a Calcium Channel and Calcium-gated Ion Channel to HH Model"
   ]
  },
  {
   "cell_type": "markdown",
   "id": "81767a4e-4133-495f-8d81-bd57ecb5dbc7",
   "metadata": {},
   "source": [
    "Motivation: There are many kinds of channels in a neuron, grouped by the types of ions that flow through them. Many of them fall into the category of voltage-gated ion channels, like the sodium and potassium channels in the original HH equations. There are also ion-gated channels, such as calcium-gated potassium channels. To simulate such channels, it's important to model how the local calcium concentration, $[Ca^{2+}]$, changes in response to neuronal activity.\n",
    "\n",
    "In this 2 part project:\n",
    "\n",
    "1. Build a 1-compartment HH model, and add a voltage-gated calcium channel to it.\n",
    "    - Compare, using the guidelines of the LIF tutorial, to LIF and the classic HH model.\n",
    "2. Add a calcium-gated potassium channel to the model you built in part 1.\n",
    "    - Compare, using the guidelines of the LIF tutorial, to LIF, the classic HH model, and the model in part 1.\n"
   ]
  },
  {
   "cell_type": "markdown",
   "id": "ad3c0fc0-9d62-47b2-b7dd-f2c6107f4556",
   "metadata": {},
   "source": [
    "#### Part 1.2.1: Voltage-Gated Calcium Channel"
   ]
  },
  {
   "cell_type": "markdown",
   "id": "a86978cf-4874-4be0-bb17-82dedcce4706",
   "metadata": {},
   "source": [
    "The HH equation with a voltage-gated calcium channel takes the following general form,\n",
    "\n",
    "$$ I_{ext} = I_{C_m} + I_L + I_{Na} + I_K + I_{Ca} $$ \n",
    "\n",
    "Use the following equations for the $ I_{Ca}$ term:\n",
    "\n",
    "NOTE: Provide equations and parameter table"
   ]
  },
  {
   "cell_type": "markdown",
   "id": "1e01271e-8431-4ffb-9783-97c44fbc24f8",
   "metadata": {},
   "source": [
    "#### Part 1.2.2: Calcium-Gated Potassium Channel"
   ]
  },
  {
   "cell_type": "markdown",
   "id": "7ee4dbba-2fda-4972-b0bc-3bd16d9d9cf4",
   "metadata": {},
   "source": [
    "The HH equation with a voltage-gated calcium channel AND a calcium-gated potassium channel takes the following form:\n",
    "\n",
    "$$ I_{ext} = I_{C_m} + I_L + I_{Na} + I_K + I_{Ca} + I_{K_{Ca}}$$ \n",
    "\n",
    "$I_{K_{Ca}}$ is a function of local calcium concentration, $[Ca^{2+}]$. Use the following equations for the $I_{K_{Ca}}$ term:\n",
    "\n",
    "NOTE: Provide equations and parameter table."
   ]
  },
  {
   "cell_type": "markdown",
   "id": "0b622e76-acb4-4085-9e70-9ac897956fa0",
   "metadata": {
    "tags": []
   },
   "source": [
    "### Project 1.3: Implement a 2-compartment HH Model"
   ]
  },
  {
   "cell_type": "markdown",
   "id": "829ba2e1-8912-46df-9db7-6df85ea22703",
   "metadata": {},
   "source": [
    "Motivation: Neurons are not just a single compartment - there is more to neuronal morphology! Instead of adding all of the intricacies of that morphology, we can just add one more compartment to start and see how the model behaves.\n",
    "\n",
    "Do all of the prompts in Project 1.1.\n",
    "\n",
    "NOTE: Provide general equation for a 2 compartment model\n",
    "\n"
   ]
  },
  {
   "cell_type": "markdown",
   "id": "26f90ddf-9324-41f5-a9d1-888619dfb6f6",
   "metadata": {},
   "source": [
    "## Section 2: Cable Model"
   ]
  },
  {
   "cell_type": "markdown",
   "id": "88abff8e-ad28-431d-8a19-dccbbbd1fe28",
   "metadata": {},
   "source": [
    "See Neural Dynamics by Gerstner et. al. section on cable model."
   ]
  },
  {
   "cell_type": "markdown",
   "id": "9cb5865e-4ae6-4488-ad66-abd1e5d13dbd",
   "metadata": {},
   "source": [
    "### Project 2.1: Explain and Implement a Cable Model"
   ]
  },
  {
   "cell_type": "markdown",
   "id": "f4b510a8-1056-4479-a95e-74001467f088",
   "metadata": {},
   "source": [
    "1. Walk through the derivation math, while making the assumptions and variable meanings clear.\n",
    "2. Implement a simulation of a cable equation in a finite cable to reproduce Figure 3.7.\n"
   ]
  },
  {
   "cell_type": "markdown",
   "id": "cdd05e18-5be0-42ba-bcc3-08239af74825",
   "metadata": {},
   "source": [
    "## Section 3: Big Projects"
   ]
  },
  {
   "cell_type": "markdown",
   "id": "66793963-ee38-4000-ac62-d00dc1d58245",
   "metadata": {},
   "source": [
    "### Big Project 3.1: Excitatory synapse(s) on a cable"
   ]
  },
  {
   "cell_type": "markdown",
   "id": "52b003e9-1edc-4551-908b-cfa051df3f9b",
   "metadata": {},
   "source": [
    "- Implement a (finite or infinite) cable with a synaptic conductance at some position on the cable. Visualize the EPSP that results when the presynaptic neuron fires.\n",
    "\n",
    "- Do the above with 2 synapses. How does spike timing impact the temporal/spatial evolution of the membrane potential? (Motivation: Synaptic Clustering)"
   ]
  },
  {
   "cell_type": "markdown",
   "id": "6a96aa1d-8557-45ab-a3ac-fe5d2109e5b4",
   "metadata": {},
   "source": [
    "### Big Project 3.2: Multicompartment Izhikevich models\n",
    "\n",
    "Implement an IF multicompartment model with Izhikevich or AdEx models. Compare the outputs and analyses following the guidelines in the LIF model. How does the multicompartment model compare to the single compartment model? Does this change as a function of how many compartments there are?"
   ]
  },
  {
   "cell_type": "markdown",
   "id": "cf8918dd-b60d-405b-a91a-ada772ea6151",
   "metadata": {},
   "source": [
    "### Big Project 3.3: Think about Noise"
   ]
  },
  {
   "cell_type": "markdown",
   "id": "8f168c14-cce2-4e22-9c68-74f0dfcfb00c",
   "metadata": {},
   "source": [
    "NOTE: Read more about noise"
   ]
  },
  {
   "cell_type": "code",
   "execution_count": null,
   "id": "e221574d-2a38-4d77-b22f-bbbb0d5714a3",
   "metadata": {},
   "outputs": [],
   "source": []
  }
 ],
 "metadata": {
  "kernelspec": {
   "display_name": "Python 3 (ipykernel)",
   "language": "python",
   "name": "python3"
  },
  "language_info": {
   "codemirror_mode": {
    "name": "ipython",
    "version": 3
   },
   "file_extension": ".py",
   "mimetype": "text/x-python",
   "name": "python",
   "nbconvert_exporter": "python",
   "pygments_lexer": "ipython3",
   "version": "3.8.13"
  }
 },
 "nbformat": 4,
 "nbformat_minor": 5
}
