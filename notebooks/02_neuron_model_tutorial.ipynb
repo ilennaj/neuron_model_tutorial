{
 "cells": [
  {
   "cell_type": "markdown",
   "id": "65a67561-99e5-4d90-bee7-1ab7d7b4afba",
   "metadata": {
    "tags": []
   },
   "source": [
    "# Neuron Model Tutorial\n",
    "\n",
    "## Objectives:\n",
    "- Use ODEs to build an Integrate and Fire Model\n",
    "- Expand on Integrate and Fire Model to make a Leaky Integrate and Fire Model\n",
    "- Compare both models"
   ]
  },
  {
   "cell_type": "markdown",
   "id": "b6314da4-eaa9-4b15-a8f1-15bbbb78df72",
   "metadata": {},
   "source": [
    "## Import Packages"
   ]
  },
  {
   "cell_type": "code",
   "execution_count": null,
   "id": "c9f152aa-890d-4930-8413-33166c85873a",
   "metadata": {},
   "outputs": [],
   "source": []
  },
  {
   "cell_type": "markdown",
   "id": "3c51b465-bd88-413e-bd1c-8c3213025e4a",
   "metadata": {},
   "source": [
    "## Set up Helper Functions"
   ]
  },
  {
   "cell_type": "code",
   "execution_count": null,
   "id": "b81f7420-eb6c-48d4-991a-167590f06e23",
   "metadata": {},
   "outputs": [],
   "source": []
  },
  {
   "cell_type": "markdown",
   "id": "2aacf72f-b95d-44e5-a097-32d9b3f9098a",
   "metadata": {},
   "source": [
    "## Outline\n",
    "- Integrate and Fire\n",
    "- Leaky Integrate and Fire\n",
    "\n"
   ]
  },
  {
   "cell_type": "code",
   "execution_count": null,
   "id": "07573d70-0466-4fee-8344-c61e673211bb",
   "metadata": {},
   "outputs": [],
   "source": []
  }
 ],
 "metadata": {
  "kernelspec": {
   "display_name": "Python 3 (ipykernel)",
   "language": "python",
   "name": "python3"
  },
  "language_info": {
   "codemirror_mode": {
    "name": "ipython",
    "version": 3
   },
   "file_extension": ".py",
   "mimetype": "text/x-python",
   "name": "python",
   "nbconvert_exporter": "python",
   "pygments_lexer": "ipython3",
   "version": "3.11.0"
  }
 },
 "nbformat": 4,
 "nbformat_minor": 5
}
