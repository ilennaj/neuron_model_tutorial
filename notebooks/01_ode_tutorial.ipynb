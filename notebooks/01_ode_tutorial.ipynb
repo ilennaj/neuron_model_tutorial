{
 "cells": [
  {
   "cell_type": "markdown",
   "id": "4e774b0f-ddd2-49a2-8217-557ded2cdf2e",
   "metadata": {
    "tags": []
   },
   "source": [
    "# ODE Tutorial\n",
    "\n",
    "## Objectives:\n",
    "- Build an mathematical **intuition** of first order ordinary differential equations\n",
    "- Learn to **analytically solve** first order ODEs\n",
    "- Learn to **numerically solve** first order ODEs using **Forward Euler Integration**\n",
    "- Think about **logistic** functions"
   ]
  },
  {
   "cell_type": "markdown",
   "id": "afe93ba1-b65d-47d3-84c3-7f4df126474c",
   "metadata": {},
   "source": [
    "## Install Packages"
   ]
  },
  {
   "cell_type": "code",
   "execution_count": null,
   "id": "13278159-30a9-4886-8ea6-a37e0e22e98e",
   "metadata": {},
   "outputs": [],
   "source": [
    "!pip install ./dependencies/numpy/*"
   ]
  },
  {
   "cell_type": "code",
   "execution_count": null,
   "id": "c52ab7fb-9d8b-407a-8aed-28ab7c0d4a5f",
   "metadata": {},
   "outputs": [],
   "source": [
    "!pip install ./dependencies/matplotlib/*"
   ]
  },
  {
   "cell_type": "markdown",
   "id": "1d436878-3262-425e-954f-cf7ce02ac89b",
   "metadata": {},
   "source": [
    "## Import Packages"
   ]
  },
  {
   "cell_type": "code",
   "execution_count": null,
   "id": "56c0e0b1-464e-4444-9052-ea5a3686dcc1",
   "metadata": {},
   "outputs": [],
   "source": [
    "import numpy as np\n",
    "import matplotlib.pyplot as plt"
   ]
  },
  {
   "cell_type": "markdown",
   "id": "2aaf122b-70f3-4e83-ac75-a63526d1748a",
   "metadata": {},
   "source": [
    "## Section 1: What is a Differential Equation?"
   ]
  },
  {
   "cell_type": "markdown",
   "id": "5be36037-a95d-460f-b259-5cb47024115b",
   "metadata": {},
   "source": [
    "#### Differential equations describe change"
   ]
  },
  {
   "cell_type": "markdown",
   "id": "4e6a5fad-506d-4c2d-adea-896b8cfa52a3",
   "metadata": {},
   "source": [
    "Neurons with \"dynamics\" have properties that change over time. To describe \"how\" these properties change, we can ascribe mathematical formulations, called differential equations. Knowing how these properties change over time allow us to build models of temporally dynamic neurons (or anything else that changes, such as the growth of populations, radioactive decay, or even periodic events).\n",
    "\n",
    "A differential equation has the form:\n",
    "\n",
    "$$ \\frac{dx}{dt} = \\frac{\"change\"}{\"time\"} $$\n",
    "\n",
    "There are many forms of differential equations, but we will focus largely on first-order differential equations, which can be written as:\n",
    "\n",
    "$$ \\frac{dx}{dt} = G(x(t)) $$\n",
    "\n",
    "where $x$ is a function of $t$, and $G$ is a function of $x(t)$.\n",
    "\n",
    "An example of simple differential equation is:\n",
    "\n",
    "$$ \\frac{dx}{dt} = 10 x(t)$$\n",
    "\n",
    "This description of the change in variable $x$ over time says that the variable $x$ will increase by a magnitude of 10 times the value of itself at the next time-step. \n",
    "\n",
    "For example, if you wanted to model how quickly a fire spreads in a dry plain, it could be that the growth (the rate of change) of the fire will be 10 times the magnitude of the current fire in the next moment. The speed at which the blazing fire will grow next will be 10 times the next magnitude of the fire in the moment after that. (Yikes!)"
   ]
  },
  {
   "cell_type": "markdown",
   "id": "863f8dd3-7ac7-4702-83de-3a6e024b8a2b",
   "metadata": {},
   "source": [
    "---"
   ]
  },
  {
   "cell_type": "markdown",
   "id": "7b90b377-57cb-4854-a5b5-7a94d5a1e93b",
   "metadata": {},
   "source": [
    "#### Solutions to Differential Equations"
   ]
  },
  {
   "cell_type": "markdown",
   "id": "9ef4da71-a8b7-4b67-b663-891d6bcef5aa",
   "metadata": {},
   "source": [
    "How might we view how this system changes over time? This requires that we find a \"solution\".\n",
    "\n",
    "A solution to a differential equation allows us to see the trajectory of the variable over time, which is completely determined by the rules the differential equation describes.\n",
    "\n",
    "Here we will talk about two ways to solve a differential equation: using ***Analytic*** methods and ***Numerical*** methods.\n",
    "\n",
    "An ***Analytic*** solution involves using algebra to \"solve\" for the function of interest, involving an integration step.\n",
    "\n",
    "$$ \\frac{dx}{dt} \\rightarrow x(t) $$\n",
    "\n",
    "A ***Numerical*** solution involves using an algorithm to numerically approximate the definite integral of the differential equation. This process is called \"numerical integration\". Numerical integration methods can range from simple (for example, the forward Euler integration method) to more sophisticated.\n",
    "\n",
    "Why might we use one method over the other? \n",
    "- Analytic solutions are more precise than numerical solutions, but may not be feasible to find algebraically. \n",
    "- Numerical solutions provide approximations that can be characterized further, but require more computational resources (time and memory) than analytic solutions.\n",
    "\n"
   ]
  },
  {
   "cell_type": "markdown",
   "id": "d6b5d69d-81ab-44cc-9730-b87567d76b24",
   "metadata": {},
   "source": [
    "---"
   ]
  },
  {
   "cell_type": "markdown",
   "id": "5500463c-a514-4f5a-b2e2-d219f9f08ddc",
   "metadata": {},
   "source": [
    "## Section 2: Examples of ODEs"
   ]
  },
  {
   "cell_type": "markdown",
   "id": "c95af702-1359-4ce0-8e7b-feacd4555a9a",
   "metadata": {
    "tags": []
   },
   "source": [
    "### Section 2.1: Constant Growth (Linear Model)\n",
    "\n",
    "Let's explore a very simple differential equation:\n",
    "\n",
    "$$ \\frac{dx(t)}{dt} = a$$\n",
    "where $a$ is a constant."
   ]
  },
  {
   "cell_type": "markdown",
   "id": "e8f06686-3358-4f2c-8085-0a0b55341cdf",
   "metadata": {},
   "source": [
    "**Intuition:**\n",
    "If we were to predict the behavior of $x(t)$, what would happen to $x$ over time if $a > 0$? If $ a < 0$?"
   ]
  },
  {
   "cell_type": "markdown",
   "id": "b156d519-2999-413a-8bb8-d8dcfe39ab2c",
   "metadata": {},
   "source": [
    "#### Section 2.1.1: Analytic Solution"
   ]
  },
  {
   "cell_type": "markdown",
   "id": "647cd53f-ef0c-4826-9f2b-d3d302802604",
   "metadata": {},
   "source": [
    "Let's use algebra and calculus to solve for $x(t)$."
   ]
  },
  {
   "cell_type": "markdown",
   "id": "1c65ef42-00a1-4f77-b21a-5e47f491d6f6",
   "metadata": {},
   "source": [
    "$$ \\frac{dx}{dt} = a $$\n",
    "Use algebra to separate the variables ($x$ and $t$) onto the left and right sides of the equation.\n",
    "$$ dx = a dt $$\n",
    "Take the integral of both sides.\n",
    "$$ \\int_{-\\infty}^{\\infty} dx = a \\int_{-\\infty}^{\\infty}dt $$\n",
    "Integrate each side, producing a coefficient of integration for each.\n",
    "$$ x(t) + C_0 = at + C_1 $$\n",
    "Replace the two coefficients with a new coefficient for simplicity of notation.\n",
    "$$ x(t) = at + C_1 - C_0 $$\n",
    "$$ x(t) = at + C $$\n",
    "This equation represents a family of functions with many different possible initial conditions. Therefore, it is important to find a way to represent what the initial condition of this system is. To do this, solve for $x(t)$ when (t=0).\n",
    "$$ x(0) = 0 + C $$\n",
    "$$ x(0) = x_0 = C $$\n",
    "Therefore the analytic solution of this system of differential equations is:\n",
    "$$ x(t) = at + x_0 $$\n",
    "\n",
    "---"
   ]
  },
  {
   "cell_type": "markdown",
   "id": "fb2d8057-7307-44c9-a1ea-b05596a11c2f",
   "metadata": {},
   "source": [
    "**Visualize:** What does this solution look like?\n",
    "\n",
    "Let's plot this solution to visualize it. Let's assume the values of $a$ and the initial value $x_0$."
   ]
  },
  {
   "cell_type": "code",
   "execution_count": null,
   "id": "29e56f81-0980-4cef-97df-ec80b3ac0c6b",
   "metadata": {},
   "outputs": [],
   "source": [
    "# Initialize parameters of the analytic solution\n",
    "a = 1\n",
    "x_0 = 5"
   ]
  },
  {
   "cell_type": "code",
   "execution_count": null,
   "id": "ef193b63-8649-471f-ade3-d0ced76f943b",
   "metadata": {},
   "outputs": [],
   "source": [
    "# Initialize the time range\n",
    "T = 50\n",
    "dt = 1\n",
    "t_range = np.arange(0, T, dt)\n",
    "\n",
    "print(t_range) # Print time_range"
   ]
  },
  {
   "cell_type": "code",
   "execution_count": null,
   "id": "d6c7f373-5cd5-46f0-8179-fc71d1d01cd1",
   "metadata": {},
   "outputs": [],
   "source": [
    "# Define the analytic solution\n",
    "def x_of_t_1(t_range, a, x_0):\n",
    "    return(a * t_range + x_0)"
   ]
  },
  {
   "cell_type": "code",
   "execution_count": null,
   "id": "c38a91e1-5016-40a1-856d-17a826c74ac1",
   "metadata": {},
   "outputs": [],
   "source": [
    "# Plot the analytic solution trajectory\n",
    "\n",
    "solution = x_of_t_1(t_range, a, x_0)\n",
    "\n",
    "fig, ax = plt.subplots(1,1,figsize=(6,4),facecolor='white')\n",
    "ax.plot(t_range, solution)\n",
    "# ax.set_ylim(0,T)\n",
    "# ax.set_xlim(0,T)\n",
    "plt.show()"
   ]
  },
  {
   "cell_type": "markdown",
   "id": "ea54aa7a-20a4-4a4d-b2b8-96361554a4f6",
   "metadata": {},
   "source": [
    "**Think:** \n",
    "- How would you describe the variable's change over time?\n",
    "- How do the parameters of the model correspond to the solution?"
   ]
  },
  {
   "cell_type": "markdown",
   "id": "b29a7866-44d5-4541-a941-153e5e81f324",
   "metadata": {},
   "source": [
    "Now let's use a numerical integration technique to approximate the solution to the differential equation.\n",
    "\n",
    "---"
   ]
  },
  {
   "cell_type": "markdown",
   "id": "a4e00c86-0d88-4a69-99b0-ffcbdd9598d4",
   "metadata": {},
   "source": [
    "### Section 2.2: Proportional Growth/Decay (Exponential)"
   ]
  },
  {
   "cell_type": "markdown",
   "id": "811eeb30-a42b-4d42-a734-b9980b720b49",
   "metadata": {},
   "source": [
    "Let's consider this new differential equation:\n",
    "$$ \\frac{dx}{dt} = ax $$\n",
    "where $a$ is a constant."
   ]
  },
  {
   "cell_type": "markdown",
   "id": "c4db4e56-39cb-406d-a9f0-0f2b05af2021",
   "metadata": {},
   "source": [
    "**Intuition**: Sketch and/or talk through your prediction of what should happen to the variable $x$'s trajectory when:\n",
    "- $a = 0$? $a > 0$? $a < 0$?\n",
    "- $a = 1$? $a > 1$? $a < 1$?"
   ]
  },
  {
   "cell_type": "markdown",
   "id": "781cc6d1-83ce-4964-ad0f-32cd72cf144b",
   "metadata": {},
   "source": [
    "#### Section 2.2.1: Analytic Solution"
   ]
  },
  {
   "cell_type": "markdown",
   "id": "959ec69e-9281-4a19-bdcc-666b8a9ae01c",
   "metadata": {},
   "source": [
    "Let's use algebra and calculus to solve for $x(t)$."
   ]
  },
  {
   "cell_type": "markdown",
   "id": "8a3a8806-cf0c-411c-8efd-dd317bde0f38",
   "metadata": {},
   "source": [
    "$$ \\frac{dx}{dt} = ax $$\n",
    "Use algebra to separate the variables ($x$ and $t$) onto the left and right sides of the equation.\n",
    "$$ \\frac{1}{x} dx = a dt $$\n",
    "Take the integral of both sides.\n",
    "$$ \\int_{-\\infty}^{\\infty} \\frac{1}{x} dx = a \\int_{-\\infty}^{\\infty}dt $$\n",
    "Integrate each side (combine the coefficients of integration in this step as well).\n",
    "$$ \\ln{|x|} = at + C $$\n",
    "We must solve for $x(t)$, so let's exponentiate each side to do so.\n",
    "$$ e^{\\ln{|x|}} = e^{at + C}$$\n",
    "$$ |x| =  e^{at + C} $$\n",
    "$$ |x| = e^C e^{at} $$\n",
    "\n",
    "Exponential functions are always non-negative, so we can drop the absolute value since $x$ will then always be positive.\n",
    "\n",
    "$$ x = e^C e^{at} $$\n",
    "\n",
    "This equation represents a family of functions with many different possible initial conditions. Therefore, it is important to find a way to represent what the initial condition of this system is. To do this, solve for $x(t)$ when (t=0).\n",
    "$$ x(0) = e^C e^{a*0} $$\n",
    "$$ x(0) = x_0 = e^C $$\n",
    "Therefore the analytic solution of this system of differential equations is:\n",
    "$$ x(t) = x_0e^{at} $$\n",
    "\n",
    "---"
   ]
  },
  {
   "cell_type": "markdown",
   "id": "17a9fd40-cb45-4508-89bb-300182da2efe",
   "metadata": {},
   "source": [
    "**Visualize:** What does this solution look like?\n",
    "\n",
    "Let's plot this solution to visualize it. Let's assume the values of $a$ and the initial value $x_0$."
   ]
  },
  {
   "cell_type": "code",
   "execution_count": null,
   "id": "2a7c397e-2748-4ef7-8552-a8f3c6a61f9d",
   "metadata": {},
   "outputs": [],
   "source": [
    "# Initialize parameters of the analytic solution\n",
    "a = 0.5\n",
    "x_0 = 1"
   ]
  },
  {
   "cell_type": "code",
   "execution_count": null,
   "id": "ac2c57cd-a6b2-4b3c-9163-96eda10f5e12",
   "metadata": {},
   "outputs": [],
   "source": [
    "# Initialize the time range\n",
    "T = 10\n",
    "dt = 0.1\n",
    "t_range = np.arange(0, T, dt)\n",
    "\n",
    "print(t_range) # Print time_range"
   ]
  },
  {
   "cell_type": "code",
   "execution_count": null,
   "id": "521713e3-52f9-425b-bd4a-3c55cae87018",
   "metadata": {},
   "outputs": [],
   "source": [
    "# Define the analytic solution\n",
    "def x_of_t_2(t, a, x_0):\n",
    "    return(x_0 * np.exp(a * t))"
   ]
  },
  {
   "cell_type": "code",
   "execution_count": null,
   "id": "223c8f7c-e524-4ba9-98a3-43c239de21d3",
   "metadata": {},
   "outputs": [],
   "source": [
    "# Plot the analytic solution trajectory\n",
    "\n",
    "solution = x_of_t_2(t_range, a, x_0)\n",
    "\n",
    "fig, ax = plt.subplots(1,1,figsize=(6,4),facecolor='white')\n",
    "ax.plot(t_range, solution)\n",
    "# ax.set_ylim(0,T)\n",
    "# ax.set_xlim(0,T)\n",
    "plt.show()"
   ]
  },
  {
   "cell_type": "markdown",
   "id": "8b88ffec-9a21-4262-8a60-43ce277b3ebd",
   "metadata": {},
   "source": [
    "**Think:** \n",
    "- How would you describe the variable's change over time?\n",
    "- How do the parameters of the model correspond to the solution?"
   ]
  },
  {
   "cell_type": "markdown",
   "id": "c56e4423-490b-4cc2-8f20-f9378a69bcc6",
   "metadata": {},
   "source": [
    "Now let's use a numerical integration technique to approximate the solution to the differential equation.\n",
    "\n",
    "---"
   ]
  },
  {
   "cell_type": "markdown",
   "id": "fc8c6e69-23e9-4905-9ca4-38935ae2f4be",
   "metadata": {},
   "source": [
    "#### Section 2.2.2: Numerical Solution"
   ]
  },
  {
   "cell_type": "markdown",
   "id": "070be600-cbd1-4132-b3c4-e69cc2c63ab8",
   "metadata": {},
   "source": [
    "Here we will use the explicit numerical integration algorithm, \"Forward Euler Integration\".\n",
    "\n",
    "But first let's think about time. Though time is continuous, it can be approximated discretely using \"time steps\" ($t_0, t_1, t_2 ...$) such that:\n",
    "$$ t_{i+1} = t_i + dt $$\n",
    "$dt$ defines the size of the time steps. If $dt$ is small enough, one can well-approximate the change in $x(t)$ as one moves from one discrete point in time to the next discrete point in time.\n",
    "\n",
    "If we start from the definition of a differential equation, we can think about how we can use $dt$ to find the change in $x(t)$.\n",
    "\n",
    "$$ \\frac{dx}{dt} = G(x(t)) = \\dot{x} $$\n",
    "$$ dx = \\dot{x}dt $$\n",
    "\n",
    "Knowing $dx$ we can approximate $x(t)$ at the next time step, ($t_i$), using what we know of $x(t)$ at the previous time step, ($t-1)$. This works well if $dt$ is small enough.\n",
    "\n",
    "$$ dx = \\dot{x}dt $$\n",
    "$$ x(t_i) - x(t_i-1) = \\dot{x}(t_i-1)dt $$\n",
    "\n",
    "As you can see, $\\dot{x}(t_i-1)$ is the change in $x$ during the previous time step, as defined by the differential equation describing this system."
   ]
  },
  {
   "cell_type": "markdown",
   "id": "0c525591-7666-4791-9b57-da8c11e7afd6",
   "metadata": {},
   "source": [
    "Below, let us define a forward euler integration function. Read each comment in this code block to understand the steps involved in defining this function."
   ]
  },
  {
   "cell_type": "code",
   "execution_count": null,
   "id": "328122f1-d3d9-42cf-8bc3-89f3085c7918",
   "metadata": {},
   "outputs": [],
   "source": [
    "def forward_euler_exp(a, x0, dt, T):\n",
    "    \"\"\"Compute solution of the differential equation xdot=a*x with\n",
    "    initial condition x0 for a duration T. Use time step dt for numerical\n",
    "    solution.\n",
    "\n",
    "    Args:\n",
    "    a (scalar): parameter of xdot (xdot=a*x)\n",
    "    x0 (scalar): initial condition (x at time 0)\n",
    "    dt (scalar): timestep of the simulation\n",
    "    T (scalar): total duration of the simulation\n",
    "\n",
    "    Returns:\n",
    "    ndarray, ndarray: `x` for all simulation steps and the time `t` at each step\n",
    "    \"\"\"\n",
    "\n",
    "    # Initialize variables\n",
    "    t = np.arange(0, T, dt)\n",
    "    x = np.zeros_like(t)\n",
    "    x[0] = x0 # This is x at time t_0\n",
    "\n",
    "    # Step through system and integrate in time\n",
    "    for k in range(1, len(t)):\n",
    "        \n",
    "        # for each point in time, compute xdot from x[k-1]\n",
    "        xdot = dxdt(a, x[k-1])\n",
    "\n",
    "        # Update x based on x[k-1] and xdot\n",
    "        x[k] = update_x(x[k-1], xdot, dt)\n",
    "\n",
    "    return x, t\n",
    "\n"
   ]
  },
  {
   "cell_type": "markdown",
   "id": "83d6d002-532b-429b-93ad-e4c21f390aeb",
   "metadata": {},
   "source": [
    "Notice the differential equation `dxdt` and the update function, `update_x` are called but not defined in the for loop. Let's define them below. "
   ]
  },
  {
   "cell_type": "code",
   "execution_count": null,
   "id": "a618e71e-f21e-4a62-8150-1b5fba1ac334",
   "metadata": {},
   "outputs": [],
   "source": [
    "def dxdt(a_param, x_val):\n",
    "    return(a_param * x_val)\n",
    "\n",
    "def update_x(x_val, xdot, dt):\n",
    "    return(x_val + xdot*dt)"
   ]
  },
  {
   "cell_type": "markdown",
   "id": "aa087048-453b-40dd-9956-b3616fe86ed5",
   "metadata": {},
   "source": [
    "Let's now choose parameters and use Euler's method to produce an approximation of $x(t)$ over time."
   ]
  },
  {
   "cell_type": "code",
   "execution_count": null,
   "id": "d10ea987-ff9f-4170-86c2-742f45c53d66",
   "metadata": {},
   "outputs": [],
   "source": [
    "# Choose parameters\n",
    "a = 0.5    # parameter in f(x)\n",
    "T = 10      # total Time duration\n",
    "dt = 0.001  # timestep of our simulation\n",
    "x0 = 1.     # initial condition of x at time 0\n",
    "\n",
    "# Use Euler's method\n",
    "x, t = forward_euler_exp(a, x0, dt, T)\n",
    "\n",
    "# Visualize\n",
    "plt.plot(t, x)\n",
    "plt.xlabel('Time (s)')\n",
    "plt.ylabel('x')\n",
    "plt.show()"
   ]
  },
  {
   "cell_type": "markdown",
   "id": "ad8fbc27-ebeb-48ab-845b-3d56848f7af0",
   "metadata": {},
   "source": [
    "**Play:** Let's plot both the analytic solution and the numerical solution and compare them.\n",
    "- Is the numerical solution an adequate approximation of the precise analytic solution?\n",
    "- Change the parameters:\n",
    "    - Change `dt = 0.1` instead of `dt = 0.001`. How does `dt` impact the comparison between the two solutions? Why might they be the same/different?\n",
    "    - What happens when you make `a` a negative number? What happens if you increase its magnitude?\n",
    "    - What happens when you change `x_0`?\n",
    "    \n",
    "(Try adding another `plt.plot()` line to compare more parameter settings side by side!)"
   ]
  },
  {
   "cell_type": "code",
   "execution_count": null,
   "id": "31fa5ac8-58ef-4d4c-9e53-572c6fbe1af1",
   "metadata": {},
   "outputs": [],
   "source": [
    "# Compare analytic and numerical solutions\n",
    "\n",
    "# Choose parameters\n",
    "a = 0.5    # parameter in f(x)\n",
    "T = 10      # total Time duration\n",
    "dt = 0.001  # timestep of our simulation\n",
    "x0 = 1.     # initial condition of x at time 0\n",
    "\n",
    "\n",
    "\n",
    "# Get numeric solution\n",
    "x_numeric, t = forward_euler_exp(a, x0, dt, T)\n",
    "\n",
    "# Get analytic solution\n",
    "x_analytic = x_of_t_2(t, a, x0)\n",
    "\n",
    "# Plot both numeric and analytic solutions\n",
    "\n",
    "plt.plot(t, x_numeric, label='numeric')\n",
    "plt.plot(t, x_analytic, label='analytic')\n",
    "plt.legend()\n",
    "plt.show()"
   ]
  },
  {
   "cell_type": "markdown",
   "id": "33fdc393-b8a3-43e1-8e5c-3d88c042eddf",
   "metadata": {},
   "source": [
    "---"
   ]
  },
  {
   "cell_type": "markdown",
   "id": "da997e06-53b7-4fac-8030-084e0b0eb012",
   "metadata": {},
   "source": [
    "### Section 2.3: Growth as an asymptote (Logistic Model)"
   ]
  },
  {
   "cell_type": "markdown",
   "id": "4e048108-b5fc-4f8d-885f-1c613d9f6528",
   "metadata": {},
   "source": [
    "Let's consider our final differential equation:\n",
    "$$ \\frac{dx}{dt} = ax(1-\\frac{x}{K}) $$\n",
    "where $a$ and $K$ are constants.\n",
    "\n",
    "(**NOTE** Add language about logistic models and how they are relevant for describing many biological systems)"
   ]
  },
  {
   "cell_type": "markdown",
   "id": "477d4af7-24f6-46bb-8e7e-dd7bf00f38c6",
   "metadata": {},
   "source": [
    "**Intuition**: Sketch and/or talk through your prediction of what should happen to $\\frac{dx}{dt}$ under the following assumptions:\n",
    "\n",
    "- Assume $K$ = 1. What happens to $\\frac{dx}{dt}$ when:\n",
    "    - What are the three situations when $\\frac{dx}{dt} = 0$?\n",
    "    - What happens to $\\frac{dx}{dt}$ when $(1 - \\frac{x}{K})$ approaches 0? (think about the sign of $\\frac{dx}{dt}$)\n",
    "    - What value must $x$ be when $(1 - \\frac{x}{K}) = 0$?\n",
    "- Make a guess as to what the function $x(t)$ looks like based on your predictions above."
   ]
  },
  {
   "cell_type": "markdown",
   "id": "0d8354ee-c57d-4b2e-843e-c60f9c671224",
   "metadata": {},
   "source": [
    "**Optional Homework:** If you are so inclined, solve for $x(t)$ analytically. However, this is a non-linear first order differential equation (the previous examples were linear), so solving this will not be as straightforward!"
   ]
  },
  {
   "cell_type": "markdown",
   "id": "2087e449-e2f7-494a-961e-dafb512f7099",
   "metadata": {},
   "source": [
    "---"
   ]
  },
  {
   "cell_type": "markdown",
   "id": "c2515149-1e02-401e-bc81-f542de7d3504",
   "metadata": {},
   "source": [
    "#### Section 2.3.1: Numerical Solution"
   ]
  },
  {
   "cell_type": "markdown",
   "id": "34b905cf-dfc6-4472-99e7-727067243fc1",
   "metadata": {},
   "source": [
    "It is a bit more complicated to find the analytical solution for this differential equation, as are many other types of differential equations that define the dynamics of other systems. That is why we might turn to numerical integration methods to view the trajectory of our system's variables. "
   ]
  },
  {
   "cell_type": "markdown",
   "id": "30ae593b-edb5-4691-8ac2-3a47e8d45bff",
   "metadata": {},
   "source": [
    "Below we will use Forward Euler Integration to visualize $x(t)$ based on the differential equation $ \\frac{dx}{dt} = ax(1-\\frac{x}{K}) $ and parameters we choose ($x_0, a, K$).\n",
    "\n",
    "Study the `forward_euler_logistic()` function and note what makes it different from `forward_euler_exp()`."
   ]
  },
  {
   "cell_type": "code",
   "execution_count": null,
   "id": "41518fd6-37ea-456f-a4d6-6df2f0942ded",
   "metadata": {},
   "outputs": [],
   "source": [
    "def forward_euler_logistic(a, x0, K, dt, T):\n",
    "    \"\"\"Compute solution of the differential equation xdot=a*x with\n",
    "    initial condition x0 for a duration T. Use time step dt for numerical\n",
    "    solution.\n",
    "\n",
    "    Args:\n",
    "    a (scalar): parameter of xdot (xdot=a*x)\n",
    "    x0 (scalar): initial condition (x at time 0)\n",
    "    dt (scalar): timestep of the simulation\n",
    "    T (scalar): total duration of the simulation\n",
    "\n",
    "    Returns:\n",
    "    ndarray, ndarray: `x` for all simulation steps and the time `t` at each step\n",
    "    \"\"\"\n",
    "\n",
    "    # Initialize variables\n",
    "    t = np.arange(0, T, dt)\n",
    "    x = np.zeros_like(t)\n",
    "    x[0] = x0 # This is x at time t_0\n",
    "\n",
    "    # Step through system and integrate in time\n",
    "    for k in range(1, len(t)):\n",
    "        \n",
    "        # for each point in time, compute xdot from x[k-1]\n",
    "        xdot = dxdt_log(a, K, x[k-1])\n",
    "\n",
    "        # Update x based on x[k-1] and xdot\n",
    "        x[k] = update_x(x[k-1], xdot, dt)\n",
    "\n",
    "    return x, t\n",
    "\n"
   ]
  },
  {
   "cell_type": "markdown",
   "id": "241d0369-3aff-4f87-ab81-6518c515d03a",
   "metadata": {},
   "source": [
    "Notice that the function `dxdt_log()` is not defined. Let's define it below."
   ]
  },
  {
   "cell_type": "code",
   "execution_count": null,
   "id": "5544d1f6-9426-492c-acfe-23fac873d9d8",
   "metadata": {},
   "outputs": [],
   "source": [
    "def dxdt_log(a, K, x_val):\n",
    "    return(a*x_val * (1 - x_val/K))"
   ]
  },
  {
   "cell_type": "markdown",
   "id": "d0fdf319-364d-4b2e-ae13-2eb8612eca55",
   "metadata": {},
   "source": [
    "Now that our differential equation is defined, we can choose parameters, get a numerical solution, and plot the solution, $x(t)$."
   ]
  },
  {
   "cell_type": "code",
   "execution_count": null,
   "id": "d43a7047-429b-454a-be1c-45413be6d4fa",
   "metadata": {},
   "outputs": [],
   "source": [
    "# Choose parameters\n",
    "a = 1       # parameter in G(x)\n",
    "K = 1      # parameter in G(x)\n",
    "T = 10      # total Time duration\n",
    "dt = 0.001  # timestep of our simulation\n",
    "x0 = 0.01   # initial condition of x at time 0\n",
    "\n",
    "# Use Euler's method\n",
    "x, t = forward_euler_logistic(a, x0, K, dt, T)\n",
    "\n",
    "# Visualize\n",
    "plt.plot(t, x)\n",
    "plt.xlabel('Time (s)')\n",
    "plt.ylabel('x')\n",
    "plt.show()"
   ]
  },
  {
   "cell_type": "markdown",
   "id": "9deb7c36-2b8c-44fc-a576-4f0da7c03992",
   "metadata": {},
   "source": [
    "**Think:** Does the behavior of $x(t)$ match your intuition? What is different?\n",
    "\n",
    "**Homework:** Let's systematically observe the impact of the parameter values on the trajectory of $x(t)$. Plot $x(t)$ using a range of parameters on the same graph.\n",
    "- How does the value of `a` impact the shape?\n",
    "- How does the value of `K` impact the shape?\n",
    "- How does the value of `x_0` impact the shape?\n",
    "\n",
    "*Hint:* Try to use a `for` loop to iterate through different values of your parameter of interest.\n"
   ]
  },
  {
   "cell_type": "markdown",
   "id": "42179e76-c5b2-4cf8-9ac5-9c2233ffa663",
   "metadata": {},
   "source": [
    "### Bonus: Logistic Equation"
   ]
  },
  {
   "cell_type": "markdown",
   "id": "605d2a9c-5c71-4b2f-8ba1-f65f270e3094",
   "metadata": {},
   "source": [
    "The logistic equation has special properties that make it useful for modeling biological, physical, economic, and machine learning systems. \n",
    "\n",
    "The logistic equation has the form:\n",
    "\n",
    "$$ x(t) = \\frac{1}{1 + (\\frac{1}{x_0} - 1) e^{-Kt}} $$"
   ]
  },
  {
   "cell_type": "markdown",
   "id": "8be81e32-d8f9-474e-96e3-22730f717717",
   "metadata": {},
   "source": [
    "**Homework:** Plot the logistic equation and compare it to the numeric solution we produced above.\n",
    "- Do they have the same shape?\n",
    "\n",
    "**Homework:** Plot the logistic equation and visualize how its shape changes as you change the parameter values.\n",
    "- What descriptive feature of the plot does each parameter seem to determine?"
   ]
  },
  {
   "cell_type": "markdown",
   "id": "86f09669-b5ca-4831-bef5-ab6a8603e0af",
   "metadata": {},
   "source": [
    "---"
   ]
  },
  {
   "cell_type": "markdown",
   "id": "938c0d44-9fec-4245-9cae-a53f7fc18989",
   "metadata": {},
   "source": [
    "## Conclusion"
   ]
  },
  {
   "cell_type": "markdown",
   "id": "6631fc98-e734-446b-ae1a-de0a04425972",
   "metadata": {},
   "source": [
    "In this tutorial we:\n",
    "- Learned what an ordinary (first order) differential equation is\n",
    "- Analytically solved linear and exponential equations\n",
    "- Used the Forward Euler numerical integration method to view system trajectories\n",
    "- Thought about the Logistic function, which is  highly relevant to biological modeling\n",
    "\n",
    "Use this tutorial and your notes as a reference for intuitively connecting how the formal mathematical definitions of ODEs correspond to a system's behavior.\n",
    "\n",
    "The next tutorial will be using the structure of the logistic function to model single neuron input-output phenomena."
   ]
  },
  {
   "cell_type": "markdown",
   "id": "afd25472-9e35-4458-b160-62025bbe0d36",
   "metadata": {},
   "source": [
    "## References\n",
    "\n",
    "- Much of this tutorial was structured based on Julie Wood's [\"Introductory ODEs\"](https://quantdev.ssri.psu.edu/sites/qdev/files/ODEintro_tutorial.html) tutorial in R.\n",
    "- Read more about the logistic equation on Wol"
   ]
  }
 ],
 "metadata": {
  "kernelspec": {
   "display_name": "Python 3 (ipykernel)",
   "language": "python",
   "name": "python3"
  },
  "language_info": {
   "codemirror_mode": {
    "name": "ipython",
    "version": 3
   },
   "file_extension": ".py",
   "mimetype": "text/x-python",
   "name": "python",
   "nbconvert_exporter": "python",
   "pygments_lexer": "ipython3",
   "version": "3.11.0"
  }
 },
 "nbformat": 4,
 "nbformat_minor": 5
}
