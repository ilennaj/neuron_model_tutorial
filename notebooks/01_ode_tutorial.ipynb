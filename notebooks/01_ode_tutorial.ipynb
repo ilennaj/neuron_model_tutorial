{
 "cells": [
  {
   "cell_type": "markdown",
   "id": "4e774b0f-ddd2-49a2-8217-557ded2cdf2e",
   "metadata": {
    "tags": []
   },
   "source": [
    "# ODE Tutorial\n",
    "\n",
    "## Objectives:\n",
    "- Build an mathematical **intuition** of first order ordinary differential equations\n",
    "- Learn to **analytically solve** first order ODEs\n",
    "- Learn to **numerically solve** first order ODEs using **Forward Euler Integration**\n",
    "- Think about **logistic** functions"
   ]
  },
  {
   "cell_type": "markdown",
   "id": "afe93ba1-b65d-47d3-84c3-7f4df126474c",
   "metadata": {},
   "source": [
    "## Install Packages"
   ]
  },
  {
   "cell_type": "code",
   "execution_count": 1,
   "id": "13278159-30a9-4886-8ea6-a37e0e22e98e",
   "metadata": {},
   "outputs": [
    {
     "name": "stdout",
     "output_type": "stream",
     "text": [
      "Processing ./dependencies/numpy/numpy-1.24.2-cp311-cp311-manylinux_2_17_x86_64.manylinux2014_x86_64.whl\n",
      "numpy is already installed with the same version as the provided wheel. Use --force-reinstall to force an installation of the wheel.\n"
     ]
    }
   ],
   "source": [
    "!pip install ./dependencies/numpy/*"
   ]
  },
  {
   "cell_type": "code",
   "execution_count": 2,
   "id": "c52ab7fb-9d8b-407a-8aed-28ab7c0d4a5f",
   "metadata": {},
   "outputs": [
    {
     "name": "stdout",
     "output_type": "stream",
     "text": [
      "Processing ./dependencies/matplotlib/Pillow-9.5.0-cp311-cp311-manylinux_2_28_x86_64.whl\n",
      "Processing ./dependencies/matplotlib/contourpy-1.0.7-cp311-cp311-manylinux_2_17_x86_64.manylinux2014_x86_64.whl\n",
      "Processing ./dependencies/matplotlib/cycler-0.11.0-py3-none-any.whl\n",
      "Processing ./dependencies/matplotlib/fonttools-4.39.3-py3-none-any.whl\n",
      "Processing ./dependencies/matplotlib/kiwisolver-1.4.4-cp311-cp311-manylinux_2_17_x86_64.manylinux2014_x86_64.whl\n",
      "Processing ./dependencies/matplotlib/matplotlib-3.7.1-cp311-cp311-manylinux_2_17_x86_64.manylinux2014_x86_64.whl\n",
      "Processing ./dependencies/matplotlib/numpy-1.24.2-cp311-cp311-manylinux_2_17_x86_64.manylinux2014_x86_64.whl\n",
      "Processing ./dependencies/matplotlib/packaging-23.0-py3-none-any.whl\n",
      "Processing ./dependencies/matplotlib/pyparsing-3.0.9-py3-none-any.whl\n",
      "Processing ./dependencies/matplotlib/python_dateutil-2.8.2-py2.py3-none-any.whl\n",
      "Processing ./dependencies/matplotlib/six-1.16.0-py2.py3-none-any.whl\n",
      "Pillow is already installed with the same version as the provided wheel. Use --force-reinstall to force an installation of the wheel.\n",
      "contourpy is already installed with the same version as the provided wheel. Use --force-reinstall to force an installation of the wheel.\n",
      "cycler is already installed with the same version as the provided wheel. Use --force-reinstall to force an installation of the wheel.\n",
      "fonttools is already installed with the same version as the provided wheel. Use --force-reinstall to force an installation of the wheel.\n",
      "kiwisolver is already installed with the same version as the provided wheel. Use --force-reinstall to force an installation of the wheel.\n",
      "matplotlib is already installed with the same version as the provided wheel. Use --force-reinstall to force an installation of the wheel.\n",
      "numpy is already installed with the same version as the provided wheel. Use --force-reinstall to force an installation of the wheel.\n",
      "packaging is already installed with the same version as the provided wheel. Use --force-reinstall to force an installation of the wheel.\n",
      "pyparsing is already installed with the same version as the provided wheel. Use --force-reinstall to force an installation of the wheel.\n",
      "python-dateutil is already installed with the same version as the provided wheel. Use --force-reinstall to force an installation of the wheel.\n",
      "six is already installed with the same version as the provided wheel. Use --force-reinstall to force an installation of the wheel.\n"
     ]
    }
   ],
   "source": [
    "!pip install ./dependencies/matplotlib/*"
   ]
  },
  {
   "cell_type": "markdown",
   "id": "1d436878-3262-425e-954f-cf7ce02ac89b",
   "metadata": {},
   "source": [
    "## Import Packages"
   ]
  },
  {
   "cell_type": "code",
   "execution_count": 3,
   "id": "56c0e0b1-464e-4444-9052-ea5a3686dcc1",
   "metadata": {},
   "outputs": [],
   "source": [
    "import numpy as np\n",
    "import matplotlib.pyplot as plt"
   ]
  },
  {
   "cell_type": "markdown",
   "id": "2aaf122b-70f3-4e83-ac75-a63526d1748a",
   "metadata": {},
   "source": [
    "## Section 1: What is a Differential Equation?"
   ]
  },
  {
   "cell_type": "markdown",
   "id": "5be36037-a95d-460f-b259-5cb47024115b",
   "metadata": {},
   "source": [
    "#### Differential equations describe change"
   ]
  },
  {
   "cell_type": "markdown",
   "id": "4e6a5fad-506d-4c2d-adea-896b8cfa52a3",
   "metadata": {},
   "source": [
    "Neurons with \"dynamics\" have properties that change over time. To describe \"how\" these properties change, we can ascribe mathematical formulations, called differential equations. Knowing how these properties change over time allow us to build models of temporally dynamic neurons (or anything else that changes, such as the growth of populations, radioactive decay, or even periodic events).\n",
    "\n",
    "A differential equation has the form:\n",
    "\n",
    "$$ \\frac{dx}{dt} = \\frac{\"change\"}{\"time\"} $$\n",
    "\n",
    "There are many forms of differential equations, but we will focus largely on first-order differential equations, which can be written as:\n",
    "\n",
    "$$ \\frac{dx}{dt} = G(x(t)) $$\n",
    "\n",
    "where $x$ is a function of $t$, and $G$ is a function of $x(t)$.\n",
    "\n",
    "An example of simple differential equation is:\n",
    "\n",
    "$$ \\frac{dx}{dt} = 10 x(t)$$\n",
    "\n",
    "This description of the change in variable $x$ over time says that the variable $x$ will increase by a magnitude of 10 times the value of itself at the next time-step. \n",
    "\n",
    "For example, if you wanted to model how quickly a fire spreads in a dry plain, it could be that the growth (the rate of change) of the fire will be 10 times the magnitude of the current fire in the next moment. The speed at which the blazing fire will grow next will be 10 times the next magnitude of the fire in the moment after that. (Yikes!)"
   ]
  },
  {
   "cell_type": "markdown",
   "id": "863f8dd3-7ac7-4702-83de-3a6e024b8a2b",
   "metadata": {},
   "source": [
    "---"
   ]
  },
  {
   "cell_type": "markdown",
   "id": "7b90b377-57cb-4854-a5b5-7a94d5a1e93b",
   "metadata": {},
   "source": [
    "#### Solutions to Differential Equations"
   ]
  },
  {
   "cell_type": "markdown",
   "id": "9ef4da71-a8b7-4b67-b663-891d6bcef5aa",
   "metadata": {},
   "source": [
    "How might we view how this system changes over time? This requires that we find a \"solution\".\n",
    "\n",
    "A solution to a differential equation allows us to see the trajectory of the variable over time, which is completely determined by the rules the differential equation describes.\n",
    "\n",
    "Here we will talk about two ways to solve a differential equation: using ***Analytic*** methods and ***Numerical*** methods.\n",
    "\n",
    "An ***Analytic*** solution involves using algebra to \"solve\" for the function of interest, involving an integration step.\n",
    "\n",
    "$$ \\frac{dx}{dt} \\rightarrow x(t) $$\n",
    "\n",
    "A ***Numerical*** solution involves using an algorithm to numerically approximate the definite integral of the differential equation. This process is called \"numerical integration\". Numerical integration methods can range from simple (for example, the forward Euler integration method) to more sophisticated.\n",
    "\n",
    "Why might we use one method over the other? \n",
    "- Analytic solutions are more precise than numerical solutions, but may not be feasible to find algebraically. \n",
    "- Numerical solutions provide approximations that can be characterized further, but require more computational resources (time and memory) than analytic solutions.\n",
    "\n"
   ]
  },
  {
   "cell_type": "markdown",
   "id": "d6b5d69d-81ab-44cc-9730-b87567d76b24",
   "metadata": {},
   "source": [
    "---"
   ]
  },
  {
   "cell_type": "markdown",
   "id": "5500463c-a514-4f5a-b2e2-d219f9f08ddc",
   "metadata": {},
   "source": [
    "## Section 2: Examples of ODEs"
   ]
  },
  {
   "cell_type": "markdown",
   "id": "c95af702-1359-4ce0-8e7b-feacd4555a9a",
   "metadata": {
    "tags": []
   },
   "source": [
    "### Section 2.1: Constant Growth (Linear Model)\n",
    "\n",
    "Let's explore a very simple differential equation:\n",
    "\n",
    "$$ \\frac{dx(t)}{dt} = a$$\n",
    "where $a$ is a constant."
   ]
  },
  {
   "cell_type": "markdown",
   "id": "e8f06686-3358-4f2c-8085-0a0b55341cdf",
   "metadata": {},
   "source": [
    "**Intuition:**\n",
    "If we were to predict the behavior of $x(t)$, what would happen to $x$ over time if $a > 0$? If $ a < 0$? If $a = 0$?"
   ]
  },
  {
   "cell_type": "markdown",
   "id": "b156d519-2999-413a-8bb8-d8dcfe39ab2c",
   "metadata": {},
   "source": [
    "#### Section 2.1.1: Analytic Solution"
   ]
  },
  {
   "cell_type": "markdown",
   "id": "647cd53f-ef0c-4826-9f2b-d3d302802604",
   "metadata": {},
   "source": [
    "Let's use algebra and calculus to solve for $x(t)$."
   ]
  },
  {
   "cell_type": "markdown",
   "id": "1c65ef42-00a1-4f77-b21a-5e47f491d6f6",
   "metadata": {},
   "source": [
    "$$ \\frac{dx}{dt} = a $$\n",
    "\n",
    "Use algebra to separate the variables ($x$ and $t$) onto the left and right sides of the equation.\n",
    "\n",
    "$$ dx = a dt $$\n",
    "\n",
    "Take the integral of both sides.\n",
    "\n",
    "$$ \\int_{-\\infty}^{\\infty} dx = a \\int_{-\\infty}^{\\infty}dt $$\n",
    "\n",
    "Integrate each side, producing a coefficient of integration for each.\n",
    "\n",
    "$$ x(t) + C_0 = at + C_1 $$\n",
    "\n",
    "Replace the two coefficients with a new coefficient for simplicity of notation.\n",
    "\n",
    "$$ x(t) = at + C_1 - C_0 $$\n",
    "$$ x(t) = at + C $$\n",
    "\n",
    "This equation represents a family of functions with many different possible initial conditions. Therefore, it is important to find a way to represent what the initial condition of this system is. To do this, solve for $x(t)$ when (t=0).\n",
    "\n",
    "$$ x(0) = 0 + C $$\n",
    "$$ x(0) = x_0 = C $$\n",
    "\n",
    "Therefore the analytic solution of this system of differential equations is:\n",
    "\n",
    "$$ x(t) = at + x_0 $$\n",
    "\n",
    "---"
   ]
  },
  {
   "cell_type": "markdown",
   "id": "fb2d8057-7307-44c9-a1ea-b05596a11c2f",
   "metadata": {},
   "source": [
    "**Visualize:** What does this solution look like?\n",
    "\n",
    "Let's plot this solution to visualize it. First let's define the analytic solution.\n",
    "\n",
    "**Code:** Complete the definition of the analytic solution function."
   ]
  },
  {
   "cell_type": "code",
   "execution_count": 4,
   "id": "d6c7f373-5cd5-46f0-8179-fc71d1d01cd1",
   "metadata": {},
   "outputs": [],
   "source": [
    "# Define the analytic solution ##TODO## Edit for student version\n",
    "def x_constant(t_range, a, x_0):\n",
    "    return(a * t_range + x_0)"
   ]
  },
  {
   "cell_type": "markdown",
   "id": "3db933aa-cfa8-4189-accf-29d5d8ff5e7e",
   "metadata": {},
   "source": [
    "Second, let's assume the values of $a$ and the initial value $x_0$."
   ]
  },
  {
   "cell_type": "code",
   "execution_count": 5,
   "id": "29e56f81-0980-4cef-97df-ec80b3ac0c6b",
   "metadata": {},
   "outputs": [],
   "source": [
    "# Initialize parameters of the analytic solution\n",
    "a = 1\n",
    "x_0 = 5"
   ]
  },
  {
   "cell_type": "markdown",
   "id": "6b32d035-29e7-456c-971e-44a984e40e06",
   "metadata": {},
   "source": [
    "Third, let's initialize a time range, since we want to view $x$ as a function of $t$. To do so, we will use the `np.arange()`. Then we will print the value of the resulting time range."
   ]
  },
  {
   "cell_type": "code",
   "execution_count": 6,
   "id": "ef193b63-8649-471f-ade3-d0ced76f943b",
   "metadata": {},
   "outputs": [
    {
     "name": "stdout",
     "output_type": "stream",
     "text": [
      "[ 0  1  2  3  4  5  6  7  8  9 10 11 12 13 14 15 16 17 18 19 20 21 22 23\n",
      " 24 25 26 27 28 29 30 31 32 33 34 35 36 37 38 39 40 41 42 43 44 45 46 47\n",
      " 48 49]\n"
     ]
    }
   ],
   "source": [
    "# Initialize the time range\n",
    "T = 50 # Maximum time value\n",
    "dt = 1 # Time step\n",
    "t_range = np.arange(0, T, dt) # arguments are (start, stop, step size)\n",
    "\n",
    "print(t_range) # Print time_range"
   ]
  },
  {
   "cell_type": "markdown",
   "id": "d5aec774-c15a-4b44-87bf-54849dedcbad",
   "metadata": {},
   "source": [
    "Now that we've defined the analytic solution function, `x_constant()`, initialized the parameters and initialized the input to our function, we can now calculate the solution and plot it."
   ]
  },
  {
   "cell_type": "code",
   "execution_count": 7,
   "id": "c38a91e1-5016-40a1-856d-17a826c74ac1",
   "metadata": {},
   "outputs": [
    {
     "data": {
      "image/png": "[encoded data removed]",
      "text/plain": [
       "<Figure size 600x400 with 1 Axes>"
      ]
     },
     "metadata": {},
     "output_type": "display_data"
    }
   ],
   "source": [
    "# Calculate the analytic solution trajectory\n",
    "solution_constant = x_constant(t_range, a, x_0)\n",
    "\n",
    "# Plot the analytic solution trajectory\n",
    "fig, ax = plt.subplots(1,1,figsize=(6,4),facecolor='white')\n",
    "ax.plot(t_range, solution_constant, c='black')\n",
    "ax.set_title(r'Analytic Solution of  $\\frac{dx}{dt} = a$')\n",
    "ax.set_xlabel('time (seconds)')\n",
    "ax.set_ylabel('$x(t)$')\n",
    "plt.show()"
   ]
  },
  {
   "cell_type": "markdown",
   "id": "ea54aa7a-20a4-4a4d-b2b8-96361554a4f6",
   "metadata": {},
   "source": [
    "**Think:** \n",
    "- How would you verbally describe the variable's change over time?\n",
    "- How do each of the parameters of the model correspond to the solution?"
   ]
  },
  {
   "cell_type": "markdown",
   "id": "b29a7866-44d5-4541-a941-153e5e81f324",
   "metadata": {},
   "source": [
    "Now let's use a numerical integration technique to approximate the solution to the differential equation."
   ]
  },
  {
   "cell_type": "markdown",
   "id": "2b9b0d20-a044-4b4a-92b1-9edac5c8f3c7",
   "metadata": {},
   "source": [
    "---"
   ]
  },
  {
   "cell_type": "markdown",
   "id": "a4e00c86-0d88-4a69-99b0-ffcbdd9598d4",
   "metadata": {},
   "source": [
    "### Section 2.2: Proportional Growth/Decay (Exponential)"
   ]
  },
  {
   "cell_type": "markdown",
   "id": "811eeb30-a42b-4d42-a734-b9980b720b49",
   "metadata": {},
   "source": [
    "Let's consider this new differential equation:\n",
    "$$ \\frac{dx}{dt} = ax $$\n",
    "where $a$ is a constant."
   ]
  },
  {
   "cell_type": "markdown",
   "id": "c4db4e56-39cb-406d-a9f0-0f2b05af2021",
   "metadata": {},
   "source": [
    "**Intuition**: Sketch and/or talk through your prediction of what should happen to the variable $x$'s trajectory when:\n",
    "- $a = 0$? $a > 0$? $a < 0$?\n",
    "- $a = 1$? $a > 1$? $a < 1$?"
   ]
  },
  {
   "cell_type": "markdown",
   "id": "38f73d97-2356-48fc-8b10-f77b4be229fa",
   "metadata": {},
   "source": [
    "---"
   ]
  },
  {
   "cell_type": "markdown",
   "id": "781cc6d1-83ce-4964-ad0f-32cd72cf144b",
   "metadata": {},
   "source": [
    "#### Section 2.2.1: Analytic Solution"
   ]
  },
  {
   "cell_type": "markdown",
   "id": "959ec69e-9281-4a19-bdcc-666b8a9ae01c",
   "metadata": {},
   "source": [
    "Let's use algebra and calculus to solve for $x(t)$."
   ]
  },
  {
   "cell_type": "markdown",
   "id": "8a3a8806-cf0c-411c-8efd-dd317bde0f38",
   "metadata": {},
   "source": [
    "$$ \\frac{dx}{dt} = ax $$\n",
    "\n",
    "Use algebra to separate the variables ($x$ and $t$) onto the left and right sides of the equation.\n",
    "\n",
    "$$ \\frac{1}{x} dx = a dt $$\n",
    "\n",
    "Take the integral of both sides.\n",
    "\n",
    "$$ \\int_{-\\infty}^{\\infty} \\frac{1}{x} dx = a \\int_{-\\infty}^{\\infty}dt $$\n",
    "\n",
    "Integrate each side (combine the coefficients of integration in this step as well).\n",
    "\n",
    "$$ \\ln{|x|} = at + C $$\n",
    "\n",
    "We must solve for $x(t)$, so let's exponentiate each side to do so.\n",
    "\n",
    "$$ e^{\\ln{|x|}} = e^{at + C}$$\n",
    "\n",
    "$$ |x| =  e^{at + C} $$\n",
    "\n",
    "$$ |x| = e^C e^{at} $$\n",
    "\n",
    "Exponential functions are always non-negative, so we can drop the absolute value since $x$ will then always be positive.\n",
    "\n",
    "$$ x = e^C e^{at} $$\n",
    "\n",
    "This equation represents a family of functions with many different possible initial conditions. Therefore, it is important to find a way to represent what the initial condition of this system is. To do this, solve for $x(t)$ when (t=0).\n",
    "\n",
    "$$ x(0) = e^C e^{a(0)} $$\n",
    "\n",
    "$$ x(0) = x_0 = e^C $$\n",
    "\n",
    "Therefore the analytic solution of this system of differential equations is:\n",
    "\n",
    "$$ x(t) = x_0e^{at} $$"
   ]
  },
  {
   "cell_type": "markdown",
   "id": "9ce9e736-8f61-47d4-b12c-1f903e057930",
   "metadata": {},
   "source": [
    "**Visualize:** What does this solution look like?\n",
    "\n",
    "Let's plot this solution to visualize it. First let's define the analytic solution.\n",
    "\n",
    "**Code:** Complete the definition of the analytic solution function."
   ]
  },
  {
   "cell_type": "code",
   "execution_count": 8,
   "id": "521713e3-52f9-425b-bd4a-3c55cae87018",
   "metadata": {},
   "outputs": [],
   "source": [
    "# Define the analytic solution ##TODO: Remove code for student version\n",
    "def x_proportion(t, a_param, x_0):\n",
    "    return(x_0 * np.exp(a_param * t))"
   ]
  },
  {
   "cell_type": "markdown",
   "id": "17a9fd40-cb45-4508-89bb-300182da2efe",
   "metadata": {},
   "source": [
    "Next, let's assume the values of $a$ and the initial value $x_0$."
   ]
  },
  {
   "cell_type": "code",
   "execution_count": 9,
   "id": "2a7c397e-2748-4ef7-8552-a8f3c6a61f9d",
   "metadata": {},
   "outputs": [],
   "source": [
    "# Initialize parameters of the analytic solution\n",
    "a = 0.5\n",
    "x_0 = 1"
   ]
  },
  {
   "cell_type": "markdown",
   "id": "83e06bb7-7934-46cf-a1db-c8c8213f7f6d",
   "metadata": {},
   "source": [
    "Next, let's initialize the time range."
   ]
  },
  {
   "cell_type": "code",
   "execution_count": 10,
   "id": "ac2c57cd-a6b2-4b3c-9163-96eda10f5e12",
   "metadata": {},
   "outputs": [
    {
     "name": "stdout",
     "output_type": "stream",
     "text": [
      "[0.  0.1 0.2 0.3 0.4 0.5 0.6 0.7 0.8 0.9 1.  1.1 1.2 1.3 1.4 1.5 1.6 1.7\n",
      " 1.8 1.9 2.  2.1 2.2 2.3 2.4 2.5 2.6 2.7 2.8 2.9 3.  3.1 3.2 3.3 3.4 3.5\n",
      " 3.6 3.7 3.8 3.9 4.  4.1 4.2 4.3 4.4 4.5 4.6 4.7 4.8 4.9 5.  5.1 5.2 5.3\n",
      " 5.4 5.5 5.6 5.7 5.8 5.9 6.  6.1 6.2 6.3 6.4 6.5 6.6 6.7 6.8 6.9 7.  7.1\n",
      " 7.2 7.3 7.4 7.5 7.6 7.7 7.8 7.9 8.  8.1 8.2 8.3 8.4 8.5 8.6 8.7 8.8 8.9\n",
      " 9.  9.1 9.2 9.3 9.4 9.5 9.6 9.7 9.8 9.9]\n"
     ]
    }
   ],
   "source": [
    "# Initialize the time range\n",
    "T = 10\n",
    "dt = 0.1\n",
    "t_range = np.arange(0, T, dt)\n",
    "\n",
    "print(t_range) # Print time_range"
   ]
  },
  {
   "cell_type": "markdown",
   "id": "5e77c816-8629-4f6c-b8dd-3605c918f5e6",
   "metadata": {},
   "source": [
    "Now that we've defined the analytic solution function, `x_proportion()`, initialized the parameters and initialized the input to our function, we can now calculate the solution and plot it."
   ]
  },
  {
   "cell_type": "code",
   "execution_count": 11,
   "id": "223c8f7c-e524-4ba9-98a3-43c239de21d3",
   "metadata": {},
   "outputs": [
    {
     "data": {
      "image/png": "[encoded data removed]",
      "text/plain": [
       "<Figure size 600x400 with 1 Axes>"
      ]
     },
     "metadata": {},
     "output_type": "display_data"
    }
   ],
   "source": [
    "# Plot the analytic solution trajectory\n",
    "\n",
    "solution_proportion = x_proportion(t_range, a, x_0)\n",
    "\n",
    "fig, ax = plt.subplots(1,1,figsize=(6,4),facecolor='white')\n",
    "ax.plot(t_range, solution_proportion, c='black')\n",
    "ax.set_title(r'Analytic Solution of  $\\frac{dx}{dt} = ax$')\n",
    "ax.set_xlabel('time (seconds)')\n",
    "ax.set_ylabel('$x(t)$')\n",
    "plt.show()"
   ]
  },
  {
   "cell_type": "markdown",
   "id": "8b88ffec-9a21-4262-8a60-43ce277b3ebd",
   "metadata": {},
   "source": [
    "**Think:** \n",
    "- How would you verbally describe the variable's change over time?\n",
    "- How do each of the parameters of the model correspond to the solution?"
   ]
  },
  {
   "cell_type": "markdown",
   "id": "c56e4423-490b-4cc2-8f20-f9378a69bcc6",
   "metadata": {},
   "source": [
    "Now let's use a numerical integration technique to approximate the solution to the differential equation."
   ]
  },
  {
   "cell_type": "markdown",
   "id": "9b7c3d9b-b24c-41ad-a2cc-0b54456e92df",
   "metadata": {},
   "source": [
    "---"
   ]
  },
  {
   "cell_type": "markdown",
   "id": "fc8c6e69-23e9-4905-9ca4-38935ae2f4be",
   "metadata": {},
   "source": [
    "#### Section 2.2.2: Numerical Solution"
   ]
  },
  {
   "cell_type": "markdown",
   "id": "070be600-cbd1-4132-b3c4-e69cc2c63ab8",
   "metadata": {},
   "source": [
    "Here we will use the explicit numerical integration algorithm, \"Forward Euler Integration\".\n",
    "\n",
    "But first let's think about time. Though time is continuous, it can be approximated discretely using \"time steps\" ($t_0, t_1, t_2 ...$) such that:\n",
    "\n",
    "$$ t_{i+1} = t_i + dt $$\n",
    "\n",
    "$dt$ defines the size of the time steps. If $dt$ is small enough, one can well-approximate the change in $x(t)$ as one moves from one discrete point in time to the next discrete point in time.\n",
    "\n",
    "If we start from the definition of a differential equation, we can think about how we can use $dt$ to find the change in $x(t)$.\n",
    "\n",
    "$$ \\frac{dx}{dt} = G(x(t)) = \\dot{x} $$\n",
    "\n",
    "$$ dx = \\dot{x}dt $$\n",
    "\n",
    "Knowing $dx$ we can approximate $x(t)$ at the next time step, ($t_i$), using what we know of $x(t)$ at the previous time step, ($t-1)$. This works well if $dt$ is small enough.\n",
    "\n",
    "$$ dx = \\dot{x}dt $$\n",
    "\n",
    "$$ x(t_i) - x(t_i-1) = \\dot{x}(t_i-1)dt $$\n",
    "\n",
    "As you can see, $\\dot{x}(t_i-1)$ is the change in $x$ during the previous time step, as defined by the differential equation describing this system.\n",
    "\n",
    "The final form of this equation for approximating the next time step is:\n",
    "\n",
    "$$ x(t_i)  = x(t_i-1) + \\dot{x}(t_i-1)dt $$"
   ]
  },
  {
   "cell_type": "markdown",
   "id": "29d858c3-fa18-480b-a012-7c48c09af316",
   "metadata": {},
   "source": [
    "Below we will define a forward euler integration function. \n",
    "\n",
    "But before we do, let's define two things:\n",
    "1. the core calculation of this integration method, which is how we find the value of $x$ at the next time step.\n",
    "2. the differential equation of interest, which describes how x will change over time\n",
    "\n",
    "**Code:** Define the `update_x` function by filling in the code for approximating $x(t)$ at the next time step."
   ]
  },
  {
   "cell_type": "code",
   "execution_count": 12,
   "id": "071af0b1-8ea2-411e-9b29-3e7e46e3ce1b",
   "metadata": {},
   "outputs": [],
   "source": [
    "def update_x(x_val, xdot, dt):\n",
    "    x_next = x_val + xdot*dt ##TODO: Remove in student version\n",
    "    return(x_next)"
   ]
  },
  {
   "cell_type": "markdown",
   "id": "af3bbb90-68ec-4866-95d4-95e1bbc813e5",
   "metadata": {},
   "source": [
    "**Code:** Define the `dxdt_prop` function by filling in the code for our differential equation we are trying to numerically integrate."
   ]
  },
  {
   "cell_type": "code",
   "execution_count": 13,
   "id": "7055ec18-b06a-4495-8a81-f10e7211254d",
   "metadata": {},
   "outputs": [],
   "source": [
    "def dxdt_prop(a_param, x_val):\n",
    "    dxdt = a_param * x_val ##TODO: Remove in student version\n",
    "    return dxdt"
   ]
  },
  {
   "cell_type": "markdown",
   "id": "0c525591-7666-4791-9b57-da8c11e7afd6",
   "metadata": {},
   "source": [
    "Below, we will define a forward euler integration function, `forward_euler_prop()`. \n",
    "\n",
    "Read each comment in this code block to understand the steps involved in defining this function."
   ]
  },
  {
   "cell_type": "code",
   "execution_count": 14,
   "id": "328122f1-d3d9-42cf-8bc3-89f3085c7918",
   "metadata": {},
   "outputs": [],
   "source": [
    "def forward_euler_prop(a, x_0, dt, T):\n",
    "    \"\"\"Compute solution of the differential equation xdot=a*x with\n",
    "    initial condition x0 for a duration T. Use time step dt for numerical\n",
    "    solution.\n",
    "\n",
    "    Args:\n",
    "    a (scalar): parameter of xdot (xdot=a*x)\n",
    "    x0 (scalar): initial condition (x at time 0)\n",
    "    dt (scalar): timestep of the simulation\n",
    "    T (scalar): total duration of the simulation\n",
    "\n",
    "    Returns:\n",
    "    ndarray, ndarray: `x` for all simulation steps and the time `t` at each step\n",
    "    \"\"\"\n",
    "\n",
    "    # Initialize variables\n",
    "    t = np.arange(0, T, dt)\n",
    "    x = np.zeros_like(t)\n",
    "    x[0] = x_0 # This is x at time t_0\n",
    "\n",
    "    # Step through system and integrate in time\n",
    "    for k in range(1, len(t)):\n",
    "        \n",
    "        # for each point in time, compute xdot from x[k-1]\n",
    "        xdot = dxdt_prop(a, x[k-1]) # Differential equation function\n",
    "\n",
    "        # Update x based on x[k-1] and xdot\n",
    "        x[k] = update_x(x[k-1], xdot, dt)\n",
    "\n",
    "    return x, t\n",
    "\n"
   ]
  },
  {
   "cell_type": "markdown",
   "id": "aa087048-453b-40dd-9956-b3616fe86ed5",
   "metadata": {},
   "source": [
    "Let's now choose parameters and use Euler's method to produce an approximation of $x(t)$ over time."
   ]
  },
  {
   "cell_type": "code",
   "execution_count": 25,
   "id": "d10ea987-ff9f-4170-86c2-742f45c53d66",
   "metadata": {},
   "outputs": [
    {
     "data": {
      "image/png": "[encoded data removed]",
      "text/plain": [
       "<Figure size 600x400 with 1 Axes>"
      ]
     },
     "metadata": {},
     "output_type": "display_data"
    }
   ],
   "source": [
    "# Choose parameters\n",
    "a = 0.5    # parameter in f(x)\n",
    "T = 10      # total Time duration\n",
    "dt = 0.001  # timestep of our simulation\n",
    "x_0 = 1.     # initial condition of x at time 0\n",
    "\n",
    "# Use Euler's method\n",
    "solution_numeric_prop, t = forward_euler_prop(a, x_0, dt, T)\n",
    "\n",
    "# Visualize\n",
    "fig, ax = plt.subplots(1,1,figsize=(6,4),facecolor='white')\n",
    "ax.plot(t, solution_numeric_prop, c='black')\n",
    "ax.set_title(r'Numerical Solution of  $\\frac{dx}{dt} = ax$')\n",
    "ax.set_xlabel('time (seconds)')\n",
    "ax.set_ylabel('$x(t)$')\n",
    "plt.show()"
   ]
  },
  {
   "cell_type": "markdown",
   "id": "ad8fbc27-ebeb-48ab-845b-3d56848f7af0",
   "metadata": {},
   "source": [
    "**Play:** Below, let's plot both the analytic solution and the numeric solution and compare them.\n",
    "- Is the numerical solution an adequate approximation of the precise analytic solution?\n",
    "- Change the parameters:\n",
    "    - Change `dt = 0.1` instead of `dt = 0.001`. How does `dt` impact the comparison between the two solutions? Why might they be the same/different?\n",
    "    - What happens when you make `a` a negative number? What happens if you increase its magnitude?\n",
    "    - What happens when you change `x_0`?\n",
    "    \n",
    "(Try adding another `x_solution` variable and plot it using the `plt.plot()` function in the code block below to compare more parameter settings side by side!)"
   ]
  },
  {
   "cell_type": "code",
   "execution_count": 32,
   "id": "31fa5ac8-58ef-4d4c-9e53-572c6fbe1af1",
   "metadata": {},
   "outputs": [
    {
     "data": {
      "image/png": "[encoded data removed]",
      "text/plain": [
       "<Figure size 640x480 with 1 Axes>"
      ]
     },
     "metadata": {},
     "output_type": "display_data"
    }
   ],
   "source": [
    "# Compare analytic and numerical solutions\n",
    "\n",
    "# Choose parameters\n",
    "a = 0.5    # parameter in f(x)\n",
    "T = 10      # total Time duration\n",
    "dt = 0.001  # timestep of our simulation\n",
    "x_0 = 1.     # initial condition of x at time 0\n",
    "\n",
    "\n",
    "\n",
    "# Get numeric solution\n",
    "x_numeric, t = forward_euler_prop(a, x_0, dt, T)\n",
    "\n",
    "# Get analytic solution\n",
    "x_analytic = x_proportion(t, a, x_0)\n",
    "\n",
    "### OPTIONAL ###\n",
    "# Use the space below to calculate another solution with different parameters for comparison\n",
    "\n",
    "################\n",
    "\n",
    "# Plot both numeric and analytic solutions\n",
    "\n",
    "plt.plot(t, x_analytic, color='red', label='analytic')\n",
    "plt.plot(t, x_numeric, color='blue', label='numeric')\n",
    "\n",
    "### OPTIONAL ###\n",
    "# Use the space below to plot your new solution that you made above\n",
    "\n",
    "################\n",
    "plt.legend()\n",
    "plt.show()"
   ]
  },
  {
   "cell_type": "markdown",
   "id": "b32bc820-b4f0-4fb5-894c-567f6fb1c3d1",
   "metadata": {},
   "source": [
    "**Homework:** Make two plots and describe the role of the parameters for $x(t)$ for each plot.\n",
    "1. A set of solutions for $x(t)$ using a range of values for `a` and only one value for `x_0`\n",
    "2. A set of solutions for $x(t)$ using a range of values for `x_0` and only one value for `a`\n",
    "\n",
    "*Hint:* Try to use a `for` loop to iterate through different values of your parameter of interest."
   ]
  },
  {
   "cell_type": "markdown",
   "id": "33fdc393-b8a3-43e1-8e5c-3d88c042eddf",
   "metadata": {},
   "source": [
    "---"
   ]
  },
  {
   "cell_type": "markdown",
   "id": "da997e06-53b7-4fac-8030-084e0b0eb012",
   "metadata": {},
   "source": [
    "### Section 2.3: Growth as an asymptote (Logistic Model)"
   ]
  },
  {
   "cell_type": "markdown",
   "id": "4e048108-b5fc-4f8d-885f-1c613d9f6528",
   "metadata": {},
   "source": [
    "Let's consider our final differential equation:\n",
    "$$ \\frac{dx}{dt} = ax(1-\\frac{x}{K}) $$\n",
    "where $a$ and $K$ are constants.\n",
    "\n",
    "This is the logistic function, which is relevant for modeling many kinds of dynamic systems, particularly in biology and biophysical models of neurons. \n",
    "\n",
    "Think back to the Hodgkin-Huxley equations in particular and you will find examples of the logistic equation! Take potassium current for example,\n",
    "$$I_{K}(V) = g_K(V)(V - E_K)$$\n",
    "\n",
    "**Think:** How does the differential equation above have a similar structure to the potassium current equation?"
   ]
  },
  {
   "cell_type": "markdown",
   "id": "477d4af7-24f6-46bb-8e7e-dd7bf00f38c6",
   "metadata": {},
   "source": [
    "**Intuition**: Sketch and/or talk through your prediction of what should happen to $\\frac{dx}{dt}$ under the following assumptions:\n",
    "\n",
    "- Assume $K$ = 1. What happens to $\\frac{dx}{dt}$ when:\n",
    "    - What are the three situations when $\\frac{dx}{dt} = 0$?\n",
    "    - What happens to $\\frac{dx}{dt}$ when $(1 - \\frac{x}{K})$ approaches 0? (think about the sign of $\\frac{dx}{dt}$)\n",
    "    - What value must $x$ be when $(1 - \\frac{x}{K}) = 0$?\n",
    "- Make a guess as to what the function $x(t)$ looks like based on your predictions above."
   ]
  },
  {
   "cell_type": "markdown",
   "id": "0d8354ee-c57d-4b2e-843e-c60f9c671224",
   "metadata": {},
   "source": [
    "**Optional Homework:** If you are so inclined, solve for $x(t)$ analytically. However, this is a non-linear first order differential equation (the previous examples were linear), so solving this will not be as straightforward!"
   ]
  },
  {
   "cell_type": "markdown",
   "id": "2087e449-e2f7-494a-961e-dafb512f7099",
   "metadata": {},
   "source": [
    "---"
   ]
  },
  {
   "cell_type": "markdown",
   "id": "c2515149-1e02-401e-bc81-f542de7d3504",
   "metadata": {},
   "source": [
    "#### Section 2.3.1: Numerical Solution"
   ]
  },
  {
   "cell_type": "markdown",
   "id": "34b905cf-dfc6-4472-99e7-727067243fc1",
   "metadata": {},
   "source": [
    "It is a bit more complicated to find the analytical solution for this differential equation, ans so are many other types of differential equations that define the dynamics of other systems. That is why we might turn to numerical integration methods to view the trajectory of our system's variables. "
   ]
  },
  {
   "cell_type": "markdown",
   "id": "30ae593b-edb5-4691-8ac2-3a47e8d45bff",
   "metadata": {},
   "source": [
    "Below we will use Forward Euler Integration to visualize $x(t)$ based on the differential equation $ \\frac{dx}{dt} = ax(1-\\frac{x}{K}) $ and parameters we choose ($x_0, a, K$).\n",
    "\n",
    "First we will define the differential equation function.\n",
    "\n",
    "**Code:** Define the differential equation `dxdt_log()`."
   ]
  },
  {
   "cell_type": "code",
   "execution_count": 21,
   "id": "9410a8f8-2e70-440e-8363-9842ae713c7e",
   "metadata": {},
   "outputs": [],
   "source": [
    "def dxdt_log(a, K, x_val):\n",
    "    dxdt = a*x_val * (1 - x_val/K) ##TODO: remove in student version\n",
    "    return(dxdt)"
   ]
  },
  {
   "cell_type": "markdown",
   "id": "f709e917-8fe2-49c1-8353-5e864f445822",
   "metadata": {},
   "source": [
    "Study the `forward_euler_logistic()` function and note what makes it different from `forward_euler_exp()`."
   ]
  },
  {
   "cell_type": "code",
   "execution_count": 33,
   "id": "41518fd6-37ea-456f-a4d6-6df2f0942ded",
   "metadata": {},
   "outputs": [],
   "source": [
    "def forward_euler_logistic(a, x_0, K, dt, T):\n",
    "    \"\"\"Compute solution of the differential equation of a logistic function with\n",
    "    initial condition x_0 for a duration T. Use time step dt for numerical\n",
    "    solution.\n",
    "\n",
    "    Args:\n",
    "    a (scalar): parameter of xdot\n",
    "    x_0 (scalar): initial condition (x at time 0)\n",
    "    K (scalar): parameter of xdot\n",
    "    dt (scalar): timestep of the simulation\n",
    "    T (scalar): total duration of the simulation\n",
    "\n",
    "    Returns:\n",
    "    ndarray, ndarray: `x` for all simulation steps and the time `t` at each step\n",
    "    \"\"\"\n",
    "\n",
    "    # Initialize variables\n",
    "    t = np.arange(0, T, dt)\n",
    "    x = np.zeros_like(t)\n",
    "    x[0] = x_0 # This is x at time t_0\n",
    "\n",
    "    # Step through system and integrate in time\n",
    "    for k in range(1, len(t)):\n",
    "        \n",
    "        # for each point in time, compute xdot from x[k-1]\n",
    "        xdot = dxdt_log(a, K, x[k-1])\n",
    "\n",
    "        # Update x based on x[k-1] and xdot\n",
    "        x[k] = update_x(x[k-1], xdot, dt)\n",
    "\n",
    "    return x, t\n",
    "\n"
   ]
  },
  {
   "cell_type": "markdown",
   "id": "d0fdf319-364d-4b2e-ae13-2eb8612eca55",
   "metadata": {},
   "source": [
    "Now that our differential equation and numerical integration methods are defined, we can choose parameters, get a numerical solution, and plot the solution, $x(t)$."
   ]
  },
  {
   "cell_type": "code",
   "execution_count": 36,
   "id": "d43a7047-429b-454a-be1c-45413be6d4fa",
   "metadata": {},
   "outputs": [
    {
     "data": {
      "image/png": "[encoded data removed]",
      "text/plain": [
       "<Figure size 600x400 with 1 Axes>"
      ]
     },
     "metadata": {},
     "output_type": "display_data"
    }
   ],
   "source": [
    "# Choose parameters\n",
    "a = 1       # parameter in G(x)\n",
    "K = 1      # parameter in G(x)\n",
    "T = 10      # total Time duration\n",
    "dt = 0.001  # timestep of our simulation\n",
    "x_0 = 0.01   # initial condition of x at time 0\n",
    "\n",
    "# Use Euler's method\n",
    "solution_numeric_logistic, t = forward_euler_logistic(a, x_0, K, dt, T)\n",
    "\n",
    "# Visualize\n",
    "fig, ax = plt.subplots(1,1,figsize=(6,4),facecolor='white')\n",
    "ax.plot(t, solution_numeric_logistic, c='black')\n",
    "ax.set_title(r'Numerical Solution of  $\\frac{dx}{dt} = ax(1-\\frac{x}{K})$')\n",
    "ax.set_xlabel('time (seconds)')\n",
    "ax.set_ylabel('$x(t)$')\n",
    "plt.show()"
   ]
  },
  {
   "cell_type": "markdown",
   "id": "9deb7c36-2b8c-44fc-a576-4f0da7c03992",
   "metadata": {},
   "source": [
    "**Think:** Does the behavior of $x(t)$ match your intuition? What is different?\n",
    "\n",
    "**Think:** How does the behavior of $x(t)$ seem relevant for modeling systems in biology? Think of an example system that has this same type of behavior.\n",
    "\n",
    "**Homework:** Let's systematically observe the impact of the parameter values on the trajectory of $x(t)$. Plot $x(t)$ using a range of parameters on the same graph.\n",
    "- How does the value of `a` impact the shape?\n",
    "- How does the value of `K` impact the shape?\n",
    "- How does the value of `x_0` impact the shape?\n",
    "\n",
    "*Hint:* Try to use a `for` loop to iterate through different values of your parameter of interest."
   ]
  },
  {
   "cell_type": "markdown",
   "id": "42179e76-c5b2-4cf8-9ac5-9c2233ffa663",
   "metadata": {},
   "source": [
    "### Bonus: Logistic Equation"
   ]
  },
  {
   "cell_type": "markdown",
   "id": "605d2a9c-5c71-4b2f-8ba1-f65f270e3094",
   "metadata": {},
   "source": [
    "The logistic equation has special properties that make it useful for modeling biological, physical, economic, and machine learning systems. \n",
    "\n",
    "The logistic equation has the form:\n",
    "\n",
    "$$ x(t) = \\frac{1}{1 + (\\frac{1}{x_0} - 1) e^{-Kt}} $$"
   ]
  },
  {
   "cell_type": "markdown",
   "id": "8be81e32-d8f9-474e-96e3-22730f717717",
   "metadata": {},
   "source": [
    "**Homework:** Plot the logistic equation and compare it to the numeric solution we produced above.\n",
    "- Do they have the same shape?\n",
    "\n",
    "**Homework:** Plot the logistic equation and visualize how its shape changes as you change the parameter values.\n",
    "- What descriptive feature of the plot does each parameter seem to determine?"
   ]
  },
  {
   "cell_type": "markdown",
   "id": "86f09669-b5ca-4831-bef5-ab6a8603e0af",
   "metadata": {},
   "source": [
    "---"
   ]
  },
  {
   "cell_type": "markdown",
   "id": "938c0d44-9fec-4245-9cae-a53f7fc18989",
   "metadata": {},
   "source": [
    "## Conclusion"
   ]
  },
  {
   "cell_type": "markdown",
   "id": "6631fc98-e734-446b-ae1a-de0a04425972",
   "metadata": {},
   "source": [
    "In this tutorial we:\n",
    "- Learned what an ordinary (first order) differential equation is\n",
    "- Analytically solved linear and exponential equations\n",
    "- Used the Forward Euler numerical integration method to view system trajectories\n",
    "- Thought about the Logistic function, which is  highly relevant to biological modeling\n",
    "\n",
    "Use this tutorial and your notes as a reference for intuitively connecting how the formal mathematical definitions of ODEs correspond to a system's behavior.\n",
    "\n",
    "The next tutorial will be using the structure of the logistic function to model single neuron input-output phenomena."
   ]
  },
  {
   "cell_type": "markdown",
   "id": "afd25472-9e35-4458-b160-62025bbe0d36",
   "metadata": {
    "tags": []
   },
   "source": [
    "## References\n",
    "\n",
    "- Much of this tutorial was structured based on Julie Wood's [\"Introductory ODEs\"](https://quantdev.ssri.psu.edu/sites/qdev/files/ODEintro_tutorial.html) tutorial in R.\n",
    "- Read more about the logistic equation in the [Wolfram Mathworld](https://mathworld.wolfram.com/LogisticEquation.html) entry."
   ]
  },
  {
   "cell_type": "code",
   "execution_count": null,
   "id": "8ec092d5-2a75-499c-ab4f-b37d476a19df",
   "metadata": {},
   "outputs": [],
   "source": []
  }
 ],
 "metadata": {
  "kernelspec": {
   "display_name": "Python 3 (ipykernel)",
   "language": "python",
   "name": "python3"
  },
  "language_info": {
   "codemirror_mode": {
    "name": "ipython",
    "version": 3
   },
   "file_extension": ".py",
   "mimetype": "text/x-python",
   "name": "python",
   "nbconvert_exporter": "python",
   "pygments_lexer": "ipython3",
   "version": "3.11.0"
  }
 },
 "nbformat": 4,
 "nbformat_minor": 5
}
