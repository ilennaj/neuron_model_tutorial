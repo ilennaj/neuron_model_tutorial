{
 "cells": [
  {
   "cell_type": "markdown",
   "id": "65a67561-99e5-4d90-bee7-1ab7d7b4afba",
   "metadata": {
    "tags": []
   },
   "source": [
    "# Neuron Model Tutorial\n",
    "\n",
    "## Objectives:\n",
    "- Build the **Leaky Integrate and Fire neuron model** by abstracting Hodgkin Huxley equations\n",
    "- Describe a neuron model's **Input/Output Relationship**\n",
    "    - Use **noise** in current input\n",
    "    - **Frequency** as a function of current input\n",
    "    - Quantify **regularity of spiking** as a function of current input noise"
   ]
  },
  {
   "cell_type": "markdown",
   "id": "e21622c7-d49f-4375-97fd-dcc9c2f49837",
   "metadata": {},
   "source": [
    "## Install Packages"
   ]
  },
  {
   "cell_type": "code",
   "execution_count": 1,
   "id": "af26fab2-7c26-4945-96d0-72684ff77c4a",
   "metadata": {},
   "outputs": [
    {
     "name": "stdout",
     "output_type": "stream",
     "text": [
      "Processing ./dependencies/numpy/numpy-1.24.2-cp311-cp311-manylinux_2_17_x86_64.manylinux2014_x86_64.whl\n",
      "numpy is already installed with the same version as the provided wheel. Use --force-reinstall to force an installation of the wheel.\n"
     ]
    }
   ],
   "source": [
    "!pip install ./dependencies/numpy/*"
   ]
  },
  {
   "cell_type": "code",
   "execution_count": 2,
   "id": "69a1fa65-04ba-4178-84a3-c2a6ea2ff047",
   "metadata": {},
   "outputs": [
    {
     "name": "stdout",
     "output_type": "stream",
     "text": [
      "Processing ./dependencies/matplotlib/Pillow-9.5.0-cp311-cp311-manylinux_2_28_x86_64.whl\n",
      "Processing ./dependencies/matplotlib/contourpy-1.0.7-cp311-cp311-manylinux_2_17_x86_64.manylinux2014_x86_64.whl\n",
      "Processing ./dependencies/matplotlib/cycler-0.11.0-py3-none-any.whl\n",
      "Processing ./dependencies/matplotlib/fonttools-4.39.3-py3-none-any.whl\n",
      "Processing ./dependencies/matplotlib/kiwisolver-1.4.4-cp311-cp311-manylinux_2_17_x86_64.manylinux2014_x86_64.whl\n",
      "Processing ./dependencies/matplotlib/matplotlib-3.7.1-cp311-cp311-manylinux_2_17_x86_64.manylinux2014_x86_64.whl\n",
      "Processing ./dependencies/matplotlib/numpy-1.24.2-cp311-cp311-manylinux_2_17_x86_64.manylinux2014_x86_64.whl\n",
      "Processing ./dependencies/matplotlib/packaging-23.0-py3-none-any.whl\n",
      "Processing ./dependencies/matplotlib/pyparsing-3.0.9-py3-none-any.whl\n",
      "Processing ./dependencies/matplotlib/python_dateutil-2.8.2-py2.py3-none-any.whl\n",
      "Processing ./dependencies/matplotlib/six-1.16.0-py2.py3-none-any.whl\n",
      "Pillow is already installed with the same version as the provided wheel. Use --force-reinstall to force an installation of the wheel.\n",
      "contourpy is already installed with the same version as the provided wheel. Use --force-reinstall to force an installation of the wheel.\n",
      "cycler is already installed with the same version as the provided wheel. Use --force-reinstall to force an installation of the wheel.\n",
      "fonttools is already installed with the same version as the provided wheel. Use --force-reinstall to force an installation of the wheel.\n",
      "kiwisolver is already installed with the same version as the provided wheel. Use --force-reinstall to force an installation of the wheel.\n",
      "matplotlib is already installed with the same version as the provided wheel. Use --force-reinstall to force an installation of the wheel.\n",
      "numpy is already installed with the same version as the provided wheel. Use --force-reinstall to force an installation of the wheel.\n",
      "packaging is already installed with the same version as the provided wheel. Use --force-reinstall to force an installation of the wheel.\n",
      "pyparsing is already installed with the same version as the provided wheel. Use --force-reinstall to force an installation of the wheel.\n",
      "python-dateutil is already installed with the same version as the provided wheel. Use --force-reinstall to force an installation of the wheel.\n",
      "six is already installed with the same version as the provided wheel. Use --force-reinstall to force an installation of the wheel.\n"
     ]
    }
   ],
   "source": [
    "!pip install ./dependencies/matplotlib/*"
   ]
  },
  {
   "cell_type": "markdown",
   "id": "94200608-31de-4881-b5bc-09908e5510dd",
   "metadata": {},
   "source": [
    "## Import Packages"
   ]
  },
  {
   "cell_type": "code",
   "execution_count": 3,
   "id": "1354da27-eca7-4855-8ae0-3dd87f6ae7c3",
   "metadata": {},
   "outputs": [],
   "source": [
    "import numpy as np\n",
    "import matplotlib.pyplot as plt"
   ]
  },
  {
   "cell_type": "markdown",
   "id": "3c51b465-bd88-413e-bd1c-8c3213025e4a",
   "metadata": {},
   "source": [
    "## Set up Helper Functions"
   ]
  },
  {
   "cell_type": "code",
   "execution_count": 4,
   "id": "b81f7420-eb6c-48d4-991a-167590f06e23",
   "metadata": {},
   "outputs": [],
   "source": [
    "def my_GWN(pars, mu, sig, myseed=False):\n",
    "    \"\"\"\n",
    "    Function that generates Gaussian white noise input\n",
    "\n",
    "    Args:\n",
    "    pars       : parameter dictionary\n",
    "    mu         : noise baseline (mean)\n",
    "    sig        : noise amplitute (standard deviation)\n",
    "    myseed     : random seed. int or boolean\n",
    "                 the same seed will give the same\n",
    "                 random number sequence\n",
    "\n",
    "    Returns:\n",
    "    I          : Gaussian white noise input\n",
    "    \"\"\"\n",
    "\n",
    "    # Retrieve simulation parameters\n",
    "    dt, T = params['dt'], params['T']\n",
    "    t = np.arange(0, T, dt)\n",
    "    t_len = len(t)\n",
    "\n",
    "    # Set random seed\n",
    "    if myseed:\n",
    "        np.random.seed(seed=myseed)\n",
    "    else:\n",
    "        np.random.seed()\n",
    "\n",
    "    # Generate GWN\n",
    "    # we divide here by 1000 to convert units to sec.\n",
    "    I_gwn = mu + sig * np.random.randn(t_len) / np.sqrt(dt / 1000.)\n",
    "\n",
    "    return I_gwn, t"
   ]
  },
  {
   "cell_type": "markdown",
   "id": "701ee942-92e6-475d-b816-f59b821f6907",
   "metadata": {},
   "source": [
    "## Section 1: A Return to the Hodgkin Huxley Equations"
   ]
  },
  {
   "cell_type": "markdown",
   "id": "b42c2f6b-5046-4a5a-84f9-1e20a6df31fd",
   "metadata": {},
   "source": [
    "Biophysical modeling on neurons involves:\n",
    "- knowing the input/output relationship you want to describe\n",
    "- building the form your model is going to take\n",
    "- testing to see if your model meets certain validity criteria when compared to real data (this is outside the scope of this tutorial)"
   ]
  },
  {
   "cell_type": "markdown",
   "id": "2df89f0d-e75f-4995-b772-e0c218df4c1e",
   "metadata": {},
   "source": [
    "![modeling](./images/1_modeling.png)"
   ]
  },
  {
   "cell_type": "markdown",
   "id": "d8c59593-b163-4434-b89a-c315b1a296e0",
   "metadata": {},
   "source": [
    "When modeling a neuron, or even a patch of neuronal membrane, it is important to remember that in most cases, we are providing an externally sourced **current input** and measuring a **voltage output**. These values determine the **input/output relationship.**"
   ]
  },
  {
   "cell_type": "markdown",
   "id": "7dc48187-3821-400b-9f4f-e50ee702f7d4",
   "metadata": {},
   "source": [
    "Hodgkin Huxley models are a widely accepted form of biophysical model, due in large part because the model was built to reproduce the input-output function of an action potential from a squid giant axon. Hodgkin and Huxley successfully crafted a model with the right parameters to create model output that matched the data output. This comparison demonstrated the **validity** of the model, and is a classic way to show one's model is \"good\"."
   ]
  },
  {
   "cell_type": "markdown",
   "id": "db654a72-78a7-496a-a496-1f9625a64889",
   "metadata": {},
   "source": [
    "One particularly nice property of Hodgkin Huxley equations are that their form ended up reflecting empirically-based objects in the biological system. See the most general form of it below:"
   ]
  },
  {
   "cell_type": "markdown",
   "id": "6a6cee7b-a2e8-4786-8444-31b5a664b6f0",
   "metadata": {},
   "source": [
    "$$ I_{ext} = I_{C_m} + I_L + I_{Na} + I_K $$"
   ]
  },
  {
   "cell_type": "markdown",
   "id": "b666c566-72ec-407c-ae39-1e121bba8e2b",
   "metadata": {},
   "source": [
    "Where $I_{ext}$ is the externally sourced current, $I_{C_m}$ is the capacitative current, $I_L$ is the leak current, and, most notably, $I_{Na}$ and $I_K$ are the sodium and potassium currents. The conceptual leap Hodgkin and Huxley made in this model was to introduce terms that reflected the contribution of sodium and potassium currents, separately. These terms correspond to empirically-based properties, the voltage gated sodium and potassium channels, in neurons. These properties can be manipulated both in the model and in real life (using sodium or potassium channel blockers), which makes this particular model powerful."
   ]
  },
  {
   "cell_type": "markdown",
   "id": "30ebb42e-2727-4914-b160-605eb1abd28c",
   "metadata": {},
   "source": [
    "## Section 2: Building a Leaky Integrate and Fire Model"
   ]
  },
  {
   "cell_type": "markdown",
   "id": "8d51d299-c6c2-497e-b914-e49322bef619",
   "metadata": {},
   "source": [
    "In the explanation above, we see how the question of \"What generates an action potential?\" is answered well with the HH model. However, what if we wanted to ask a different question?\n",
    "\n",
    "Neurons produce many action potentials over time. We could then ask:\n",
    "- Given a current input, how often does a neuron spike?\n",
    "- Given a current input, how regularly or irregularly does a neuron spike?"
   ]
  },
  {
   "cell_type": "markdown",
   "id": "8b8f1fb8-0bf0-494e-8365-04e3edc5b786",
   "metadata": {},
   "source": [
    "Using a HH model to answer these questions could be computationally expensive to simulate due to the complex dynamics for evaluating the contributions of $I_{Na}$ and $I_K$.\n",
    "\n",
    "Asking different questions and computational feasibility are major reasons why one would try to build a new neuron model that is simpler and easier to compute."
   ]
  },
  {
   "cell_type": "markdown",
   "id": "2e8483ea-5eca-43c2-96fa-52d71bdec4dc",
   "metadata": {},
   "source": [
    "### Section 2.1: Building a \"proto\"-LIF Model"
   ]
  },
  {
   "cell_type": "markdown",
   "id": "a9b2919d-a2d5-4d28-9f3d-546551e1ed94",
   "metadata": {},
   "source": [
    "What can we do to make the HH model simpler? As a requirement, we want to largely maintain the relevant properties of the input/output function we need to answer our questions.\n",
    "\n",
    "Let's look at an input/output function of a neuron."
   ]
  },
  {
   "cell_type": "markdown",
   "id": "eddcf8cd-517d-4c19-b2c0-27fa96112948",
   "metadata": {},
   "source": [
    "<div>\n",
    "<img src=\"./images/2_AP_features.svg\" width=\"400\"/>\n",
    "</div>"
   ]
  },
  {
   "cell_type": "markdown",
   "id": "e8ae4d41-5e26-404c-8615-b49fb4c09840",
   "metadata": {},
   "source": [
    "$I(t)$ corresponds to input current, $V(t)$ corresponds to output voltage.\n",
    "\n",
    "If we are trying to investigate action potential spike timing, like with our questions above, then perhaps all we need to do is produce a model that can recreate when the spike occurs. \n",
    "\n",
    "Do we need to recreate the shape of the spike to do this? Probably not. All we need to know is how to recreate the features of the voltage trace that don't include making the spike shape.\n",
    "\n",
    "Our new model thus only needs to have the following properties:\n",
    "- Use input current to depolarize the membrane voltage until a threshold ($V_{th}$) is reached\n",
    "- Hyperpolarize back to resting state ($V_{rest}$), restarting the process"
   ]
  },
  {
   "cell_type": "markdown",
   "id": "7d47a697-5a45-4970-913c-2b2500e1f699",
   "metadata": {},
   "source": [
    "We can do this by using the HH model as a starting point.\n",
    "\n",
    "The $I_{Na}$ and $I_K$ terms are necessary for the the action potential shape after reaching $V_{th}$ and the hyperpolarization back to around resting state voltage potential at $V_{rest}$. \n",
    "\n",
    "What if we replaced these terms with a conditional statement that does exactly what we want? Our model may then be good enough to begin feasibly asking our questions. Before we get to that point, let's worry about the model using current to allow $V$ to reach threshold."
   ]
  },
  {
   "cell_type": "markdown",
   "id": "f9ce50cc-be99-42ea-add5-9dcdc010ea2c",
   "metadata": {},
   "source": [
    "Start with the HH model:\n",
    "\n",
    "$$ I_{ext} = I_{C_m} + I_L + I_{Na} + I_K $$\n",
    "\n",
    "Remove the $I_{Na}$ and $I_K$ terms!\n",
    "\n",
    "$$ I_{ext} = I_{C_m} + I_L $$\n",
    "\n",
    "$$ I_{ext} = C_m \\frac{dV}{dt} + g_L(V-E_L) $$\n",
    "\n",
    "Re-arrange the equation to view how the change in $V(t)$ over time is defined by a differential equation.\n",
    "\n",
    "$$ C_m \\frac{dV}{dt} = -g_L(V-E_L) + I_{ext} $$\n"
   ]
  },
  {
   "cell_type": "markdown",
   "id": "93265bcb-5e1b-454f-8a10-3fab4712bebe",
   "metadata": {},
   "source": [
    "**Think**: Look at $\\frac{dV}{dt}$ above and do the following:\n",
    "- What value would you need $V$ to be for $-g_L(V-E_L) = 0$?\n",
    "- Assume $I_{ext} = 0$. What sign would $\\frac{dV}{dt}$ be:\n",
    "    - If $V > E_L$? \n",
    "    - If $V < E_L$?\n",
    "- Assume $I_{ext} > 0$. When would $\\frac{dV}{dt} = 0$ ?\n",
    "\n",
    "Based on this analysis, sketch and/or discuss what you think the solution trajectory of $V(t)$ looks like."
   ]
  },
  {
   "cell_type": "markdown",
   "id": "f9de8603-7916-48ad-b150-f28517164086",
   "metadata": {},
   "source": [
    "**Homework**: Find an analytic solution to this equation by using algebra and calculus to solve for $V(t)$."
   ]
  },
  {
   "cell_type": "markdown",
   "id": "4d85a80f-45a2-4a88-915b-593b04fdaac9",
   "metadata": {},
   "source": [
    "Now that you've studied this equation, let's check to see if it does what we want it to do. Below we will use Forward Euler Integration to numerically solve (or simulate!) this differential equation."
   ]
  },
  {
   "cell_type": "markdown",
   "id": "d5ae2208-bdc1-4e14-a8bc-4e1027b35568",
   "metadata": {},
   "source": [
    "---"
   ]
  },
  {
   "cell_type": "markdown",
   "id": "2b8d4a7a-d524-44af-9f8b-fe02aa7bb343",
   "metadata": {},
   "source": [
    "### Section 2.2: Simulate a \"proto\"-LIF Model"
   ]
  },
  {
   "cell_type": "markdown",
   "id": "20bf1732-830c-43a9-80c6-10b9e8e36b48",
   "metadata": {},
   "source": [
    "Let's simulate what happens with this \"proto\"-LIF model using numerical integration.\n",
    "\n",
    "This simulation uses the Forward Euler Integration method, which is discussed in the previous tutorial (see Section 2.2.2).\n",
    "\n",
    "Below we will define three functions:\n",
    "- A simulator function, `simulate_proto_LIF()` \n",
    "- A differential equation function, `dvdt_proto_LIF()`, that will be called within the simulator\n",
    "- A parameter function to create a `dict` object containing all parameters, called `default_params()`"
   ]
  },
  {
   "cell_type": "markdown",
   "id": "c1c21051-f07a-46ac-a8db-6b06c68dc2bc",
   "metadata": {},
   "source": [
    "**Code:** Define the `dvdt_proto_LIF()` differential equation function."
   ]
  },
  {
   "cell_type": "code",
   "execution_count": 5,
   "id": "45c428cf-3c50-48de-af49-73fbfe85ffe8",
   "metadata": {},
   "outputs": [],
   "source": [
    "def dvdt_proto_LIF(g_L, E_L, C_m, I_ext, V_val):\n",
    "    #### TODO ####: \n",
    "    # Define dvdt using the proto-LIF model differential equation\n",
    "    dvdt = (1/C_m) * (-g_L * (V_val - E_L) + I_ext) # TODO: Remove from student version\n",
    "    ##############\n",
    "    return(dvdt)"
   ]
  },
  {
   "cell_type": "markdown",
   "id": "beb995af-0e74-413f-919b-4a8166bc4c2f",
   "metadata": {},
   "source": [
    "Read the comments within `simulate_proto_LIF()` to understand the input arguments, what steps are involved in the simulation, and the returned outputs of the function. "
   ]
  },
  {
   "cell_type": "code",
   "execution_count": 6,
   "id": "feaeb5ad-9fdd-4fc8-92d7-7ce144a692f3",
   "metadata": {},
   "outputs": [],
   "source": [
    "def simulate_proto_LIF(params, I_inj):\n",
    "    \"\"\"Compute solution of the proto-LIF model with\n",
    "    initial condition V_0 for a duration T. Use time step dt for numerical\n",
    "    solution.\n",
    "\n",
    "    Args:\n",
    "    params (dict): parameters for proto-LIF model\n",
    "    I_inj (scalar): injected external input current\n",
    "\n",
    "    Returns:\n",
    "    ndarray, ndarray: `V` for all simulation steps and the time `t` at each step\n",
    "    \"\"\"\n",
    "    \n",
    "    # Initialize parameters\n",
    "    g_L = params['g_L']\n",
    "    E_L = params['E_L']\n",
    "    V_0 = params['V_0']\n",
    "    C_m = params['C_m']\n",
    "    dt  = params['dt']\n",
    "    T   = params['T']\n",
    "    \n",
    "    # Initialize variables\n",
    "    t = np.arange(0, T, dt)\n",
    "    V = np.zeros_like(t)\n",
    "    V[0] = V_0 # This is V at time t_0\n",
    "    I_inj = I_inj * np.ones_like(t) # Inject the same current at every time step\n",
    "   \n",
    "    # Step through system and integrate in time\n",
    "    for k in range(1, len(t)):\n",
    "        \n",
    "        # for each point in time, compute dvdt from V[k-1] and I_inj[k-1]\n",
    "        dvdt = dvdt_proto_LIF(g_L, E_L, C_m, I_inj[k-1], V[k-1])\n",
    "\n",
    "        # Update V based on V[k-1] and dvdt\n",
    "        V[k] = V[k-1] + dvdt*dt\n",
    "\n",
    "    return V, t"
   ]
  },
  {
   "cell_type": "markdown",
   "id": "fbf9c887-792a-4e52-9a8e-59fa65c50151",
   "metadata": {},
   "source": [
    "Below is a function that creates a `dict` dictionary object containing the default parameter values. \n",
    "\n",
    "(This should be called to initialize or re-initialize the parameters to the default set, and the resulting dictionary object can then be modified afterward.)"
   ]
  },
  {
   "cell_type": "code",
   "execution_count": 7,
   "id": "fb754ad3-3b4f-47cc-9aff-a81b0842adc5",
   "metadata": {},
   "outputs": [],
   "source": [
    "def default_params():\n",
    "    params = {'V_th': -55.0,    # mV\n",
    "              'V_0': -75.0,     # mV\n",
    "              'tau_m': 10.0,    # ms\n",
    "              'g_L': 10.0,      # uS\n",
    "              'V_reset': -75.0, # mV\n",
    "              'E_L': -75.0,     # mV\n",
    "              'tref': 2.0,      # ms\n",
    "              'T': 150.0,       # ms\n",
    "              'dt': 0.1,        # ms\n",
    "              'C_m': 100,\n",
    "             }\n",
    "    return params"
   ]
  },
  {
   "cell_type": "markdown",
   "id": "7be5d177-5adc-4f8b-9cf0-719a0e4d2904",
   "metadata": {},
   "source": [
    "**Visualize:** Let's now initialize our parameters, simulate $V(t)$ over time, and plot the simulation."
   ]
  },
  {
   "cell_type": "code",
   "execution_count": 8,
   "id": "8acd1789-cc9c-42b7-99e7-6580c999ccd8",
   "metadata": {},
   "outputs": [
    {
     "data": {
      "image/png": "[encoded data removed]",
      "text/plain": [
       "<Figure size 600x400 with 1 Axes>"
      ]
     },
     "metadata": {},
     "output_type": "display_data"
    }
   ],
   "source": [
    "# Choose current magnitude and initialize parameters\n",
    "I_ext = 1000 #pA\n",
    "params = default_params()\n",
    "\n",
    "# Run simulation\n",
    "proto_LIF_solution, t = simulate_proto_LIF(params, I_ext)\n",
    "\n",
    "# Plot simulation\n",
    "fig, ax = plt.subplots(1,1,figsize=(6,4),facecolor='white')\n",
    "ax.plot(t, proto_LIF_solution, c='black')\n",
    "ax.set_title(r'Proto-LIF Solution')\n",
    "ax.set_xlabel('time (milliseconds)')\n",
    "ax.set_ylabel('$V(t)$')\n",
    "plt.show()"
   ]
  },
  {
   "cell_type": "markdown",
   "id": "53d7a61f-a961-4809-a282-b856e36fa95e",
   "metadata": {},
   "source": [
    "**Think:** Why does the simulated voltage seem to approach an asymptote and go no further?\n",
    "\n",
    "**Homework:** Use the proto-LIF differential equation to precisely solve for the steady state voltage that you see in the plot above."
   ]
  },
  {
   "cell_type": "markdown",
   "id": "eb976adf-c8b5-4ffa-acab-e0945cc297db",
   "metadata": {},
   "source": [
    "---"
   ]
  },
  {
   "cell_type": "markdown",
   "id": "fdbf4609-a7cd-429a-9412-1178c32eda04",
   "metadata": {},
   "source": [
    "### Section 2.3: Build a full LIF model\n",
    "\n",
    "Based on the work above, our model is not done yet. It is missing the feature where the model hyperpolarizes back toward resting potential, $V_{rest}$. Let's divide both sides by $g_L$ and replace $\\frac{C_m}{g_L}$ with $\\tau_m$ ($\\tau_m = \\frac{C_m}{g_L}$). Then, let's add a conditional statement. We thus define the full LIF model as the following:\n",
    "- $ \\tau_m \\frac{dV}{dt} = -(V-E_L) + \\frac{I_{ext}}{g_L} $\n",
    "- If $ V(t) = V_{th}$, then $ V(t + dt) = V_{reset} $"
   ]
  },
  {
   "cell_type": "markdown",
   "id": "5303ae3c-f7b8-4174-bf6b-d4a9199ef1b0",
   "metadata": {},
   "source": [
    "The conditional statement means that if $V(t)$ reaches a threshold value $V_{th}$, then at the next time step $V(t)$ will be set to $V_{reset}$. \n",
    "\n",
    "This is what makes the core of a functional Leaky Integrate and Fire Model."
   ]
  },
  {
   "cell_type": "markdown",
   "id": "fef0d1b1-42c9-43f6-b2db-40bf740c1629",
   "metadata": {},
   "source": [
    "Next we will try simulating an LIF model. First, we must define the new form of the differential equation of the LIF model. \n",
    "\n",
    "**Code:** Define the `dvdt_LIF()` differential equation used in the LIF model."
   ]
  },
  {
   "cell_type": "code",
   "execution_count": 9,
   "id": "e888a8ad-2d43-4efd-af8e-ca0b48f02c94",
   "metadata": {},
   "outputs": [],
   "source": [
    "def dvdt_LIF(g_L, E_L, tau_m, I_ext, V_val):\n",
    "    #### TODO ####:\n",
    "    # Define dvdt with the updated LIF model differential equation\n",
    "    dvdt = (1/tau_m) * (-(V_val - E_L) + I_ext/g_L) #TODO: Remove in student version\n",
    "    ##############\n",
    "    return(dvdt)"
   ]
  },
  {
   "cell_type": "markdown",
   "id": "08193fb1-e7ca-4aaf-b17c-c733bc1f755e",
   "metadata": {},
   "source": [
    "Below, we will define `simulate_LIF()` and add other important features to the simulator that makes this model more biologically plausible. This model will thus have the following features:\n",
    "- Change in voltage based on the voltage of the neuron model and external input current (depolarization)\n",
    "- Reset voltage when threshold potential is reached (hyperpolarization)\n",
    "- Spike refractory period $\\leftarrow$ (think about why this is included!)"
   ]
  },
  {
   "cell_type": "markdown",
   "id": "ee8007ed-041c-4f59-b65c-f6ca99a9a778",
   "metadata": {},
   "source": [
    "Read the comments within `simulate_LIF()` to understand the input arguments, what steps are involved in the simulation, and the returned outputs of the function. \n",
    "\n",
    "(This function has a lot going on! So feel free to only engage with the comments.)"
   ]
  },
  {
   "cell_type": "code",
   "execution_count": 10,
   "id": "73a1c13e-b8e0-4d0f-8c2a-b50bab35872f",
   "metadata": {},
   "outputs": [],
   "source": [
    "def simulate_LIF(params, I_inj): # Possibly make this into a helper function\n",
    "    \"\"\"Compute solution of the LIF model with\n",
    "    initial condition V_0 for a duration T. Use time step dt for numerical\n",
    "    solution.\n",
    "\n",
    "    Args:\n",
    "    params (dict): parameters for proto-LIF model\n",
    "    I_inj (scalar): injected external input current\n",
    "\n",
    "    Returns:\n",
    "    ndarray, ndarray: `V` for all simulation steps and the time `t` at each step\n",
    "    \"\"\"\n",
    "    \n",
    "    # Initialize parameters\n",
    "    g_L = params['g_L']\n",
    "    E_L = params['E_L']\n",
    "    V_0 = params['V_0']\n",
    "    C_m = params['C_m']\n",
    "    dt  = params['dt']\n",
    "    T   = params['T']\n",
    "    V_th = params['V_th']\n",
    "    V_reset = params['V_reset']\n",
    "    tau_m = params['tau_m']\n",
    "    tref = params['tref']\n",
    "    \n",
    "    # Initialize variables\n",
    "    t = np.arange(0, T, dt)\n",
    "    V = np.zeros_like(t)\n",
    "    V[0] = V_0 # This is V at time t_0\n",
    "    I_inj = I_inj * np.ones_like(t)\n",
    "   \n",
    "    # Step through system and integrate in time\n",
    "    rec_spikes = []  # record spike times\n",
    "    tr = 0.  # the count for refractory duration\n",
    "    \n",
    "    for k in range(1, len(t)):\n",
    "        if tr > 0:  # check if in refractory period\n",
    "            V[k-1] = V_reset  # set voltage to reset\n",
    "            tr = tr - 1 # reduce running counter of refractory period\n",
    "\n",
    "        elif V[k-1] >= V_th:  # if voltage over threshold\n",
    "            rec_spikes.append(k)  # record spike event\n",
    "            V[k-1] = V_reset  # reset voltage\n",
    "            tr = tref / dt  # set refractory time\n",
    "\n",
    "        # for each point in time, compute dvdt from x[k-1]\n",
    "        dvdt = dvdt_LIF(g_L, E_L, tau_m, I_inj[k-1], V[k-1])\n",
    "\n",
    "        # Update x based on x[k-1] and dvdt\n",
    "        V[k] = V[k-1] + dvdt*dt\n",
    "\n",
    "    return V, t, rec_spikes"
   ]
  },
  {
   "cell_type": "markdown",
   "id": "efcc240f-155b-4181-84f1-8b3a6c528fc7",
   "metadata": {},
   "source": [
    "**Visualize:** Let's now initialize our parameters, simulate $V(t)$ over time, and plot the simulation."
   ]
  },
  {
   "cell_type": "code",
   "execution_count": 11,
   "id": "48a52933-1aad-40d0-8ccf-d2aa2dc7eccb",
   "metadata": {},
   "outputs": [
    {
     "data": {
      "image/png": "[encoded data removed]",
      "text/plain": [
       "<Figure size 600x400 with 1 Axes>"
      ]
     },
     "metadata": {},
     "output_type": "display_data"
    }
   ],
   "source": [
    "# Choose current magnitude and initialize parameters\n",
    "I_ext = 250 # pA\n",
    "params = default_params()\n",
    "\n",
    "# Run simulation\n",
    "LIF_solution, t, spike_times = simulate_LIF(params, I_ext)\n",
    "\n",
    "# Plot simulation\n",
    "fig, ax = plt.subplots(1,1,figsize=(6,4),facecolor='white')\n",
    "ax.plot(t, LIF_solution, c='black')\n",
    "ax.set_title(r'LIF Solution')\n",
    "ax.set_xlabel('time (milliseconds)')\n",
    "ax.set_ylabel('$V(t)$')\n",
    "plt.show()"
   ]
  },
  {
   "cell_type": "markdown",
   "id": "02e86af8-9f1c-45f4-9ff5-9307fe611665",
   "metadata": {},
   "source": [
    "**Think:** Are the three desired features of the neuron model present in this plot?\n",
    "\n",
    "**Play:** Try different `I_ext` settings. \n",
    "- How does `I_ext` impact the number of spikes in this given amount of time? \n",
    "- What feature of the neuron model is directly impacted by increasing or decreasing `I_ext`?"
   ]
  },
  {
   "cell_type": "markdown",
   "id": "dd969f8f-970c-48d2-ba51-a94246781431",
   "metadata": {},
   "source": [
    "You should notice that the variable `spike_times` is an output of our `simulate_LIF()` function. Let's print them below. "
   ]
  },
  {
   "cell_type": "code",
   "execution_count": 12,
   "id": "f94e22a0-015f-4da8-941f-f5e762feb93f",
   "metadata": {},
   "outputs": [
    {
     "name": "stdout",
     "output_type": "stream",
     "text": [
      "[162, 343, 524, 705, 886, 1067, 1248, 1429]\n"
     ]
    }
   ],
   "source": [
    "print(spike_times)"
   ]
  },
  {
   "cell_type": "markdown",
   "id": "88e1bf32-99fb-4e4b-b944-699a21a1c563",
   "metadata": {},
   "source": [
    "**Think:** Do the spike times correspond to the \"spikes\" in the plot above? What must be the units of the spike time output from this simulation? (*Hint:* Use what you know about `dt` and `T`)"
   ]
  },
  {
   "cell_type": "markdown",
   "id": "a44524ae-0dea-4426-bb84-8520ee81ceda",
   "metadata": {},
   "source": [
    "## Section 3: Describing an LIF Model's Input/Output Relationship"
   ]
  },
  {
   "cell_type": "markdown",
   "id": "998164f6-5758-4e86-9111-39121520b435",
   "metadata": {},
   "source": [
    "We now have a working LIF model that let's us explore the following questions mentioned above:\n",
    "1. Given a current input, how often does a neuron spike?\n",
    "2. Given a current input, how regularly or irregularly does a neuron spike?"
   ]
  },
  {
   "cell_type": "markdown",
   "id": "be5d41d1-99e7-4332-aff3-e8fd56a94e44",
   "metadata": {},
   "source": [
    "Before we delve into these questions, what do we mean by current input?"
   ]
  },
  {
   "cell_type": "markdown",
   "id": "452f8e11-2fa3-4902-b893-081580384c71",
   "metadata": {},
   "source": [
    "### Section 3.1: Current as Gaussian White Noise"
   ]
  },
  {
   "cell_type": "markdown",
   "id": "b0dac35c-4769-4d2d-b6f1-c5e77d9ac7bc",
   "metadata": {},
   "source": [
    "The input current we have provided to our LIF neuron thus far has been noiseless and constant. However, input received by a neuron is rarely noiseless - it is noisy and time-varying. Does the amount of noise impact neuron firing properties at all?\n",
    "\n",
    "This means we can try to answer our two questions above under two conditions: \n",
    "- *Given a noisy or noiseless current input*, how often does a neuron spike?\n",
    "- *Given a noisy or noiseless current input*, how regularly or irregularly does a neuron spike?\n",
    "\n"
   ]
  },
  {
   "cell_type": "markdown",
   "id": "c84bebaf-506b-48df-b226-f97384092793",
   "metadata": {},
   "source": [
    "---"
   ]
  },
  {
   "cell_type": "markdown",
   "id": "ffebd8c0-52de-4421-92b0-32f350d400ad",
   "metadata": {},
   "source": [
    "What do we mean by noisy and noiseless?\n",
    "\n",
    "**Visualize:** Plot examples of a noisy and a noiseless current."
   ]
  },
  {
   "cell_type": "markdown",
   "id": "200f589e-e691-456a-89b4-c86464d48728",
   "metadata": {},
   "source": [
    "Let's produce a noisy current input using a gaussian white noise (GWN) signal with mean $\\mu$ and and noise $\\sigma$. We can visualize this current and provide it as input to our neuron model.\n",
    "\n",
    "Use the helper function `my_GWN()` to produce a noiseless ('noiseless') current and a noisy current input with mean `mu` and variance `sigma`. Then plot the new current over time to visualize it.\n",
    "\n",
    "The arguments of `my_GWN()` are `params`, `mu`, `sigma`, and its output is a time-varying current output, and a time array.\n",
    "\n"
   ]
  },
  {
   "cell_type": "code",
   "execution_count": 13,
   "id": "e3db90cd-b7a1-4c74-a699-cdf46fad916c",
   "metadata": {},
   "outputs": [
    {
     "data": {
      "image/png": "[encoded data removed]",
      "text/plain": [
       "<Figure size 600x300 with 2 Axes>"
      ]
     },
     "metadata": {},
     "output_type": "display_data"
    }
   ],
   "source": [
    "mu = 250 # pA\n",
    "sigma_noiseless = 0 # standard deviation of a noiseless current\n",
    "sigma_noisy = 1 # standard deviation of a noisy current\n",
    "I_ext_noiseless, t = my_GWN(params, mu, sigma_noiseless) \n",
    "I_ext_noisy, t = my_GWN(params, mu, sigma_noisy)\n",
    "\n",
    "fig, ax = plt.subplots(1,2, figsize=(6,3), facecolor='white')\n",
    "fig.tight_layout(w_pad=2)\n",
    "y_min, y_max = -300, 1000 # Plotting parameters\n",
    "ax[0].plot(t, I_ext_noiseless, color='black')\n",
    "ax[1].plot(t, I_ext_noisy, color='black')\n",
    "ax[0].set_title(r'Noiseless Current ($\\sigma$ = 0)')\n",
    "ax[1].set_title(r'Noisy Current ($\\sigma$ = '+str(sigma_noisy)+')')\n",
    "ax[0].set_ylim(y_min, y_max)\n",
    "ax[1].set_ylim(y_min, y_max)\n",
    "ax[0].set_ylabel(r'$I_{ext}$ (pA)')\n",
    "ax[0].set_xlabel('Time (milliseconds)')\n",
    "ax[1].set_xlabel('Time (milliseconds)')\n",
    "plt.show()"
   ]
  },
  {
   "cell_type": "markdown",
   "id": "650a722e-bdd4-479d-84b6-fef87bf93f2d",
   "metadata": {},
   "source": [
    "**Visualize:** Give the noisy current as input to an LIF model and observe the voltage trace output."
   ]
  },
  {
   "cell_type": "markdown",
   "id": "1f18f89c-bf41-4dda-8b13-fbeb32d99233",
   "metadata": {},
   "source": [
    "**Code:** Define the `I_ext` value by using the `my_GWN` function and provide `params`, `mu`, and `sigma` as arguments."
   ]
  },
  {
   "cell_type": "code",
   "execution_count": 14,
   "id": "6a7196bc-c706-437a-a65c-aefb6744c206",
   "metadata": {},
   "outputs": [
    {
     "data": {
      "image/png": "[encoded data removed]",
      "text/plain": [
       "<Figure size 600x600 with 2 Axes>"
      ]
     },
     "metadata": {},
     "output_type": "display_data"
    }
   ],
   "source": [
    "# Simulate a LIF neuron to get spike times\n",
    "\n",
    "# Choose current magnitude and initialize parameters\n",
    "params = default_params()\n",
    "mu = 250\n",
    "sigma = 1\n",
    "\n",
    "# Produce Current\n",
    "#### TODO ####: \n",
    "# Use the my_GWN function to produce a noisy time-varying current input array\n",
    "I_ext, t = my_GWN(params, mu, sigma) # TODO: remove in student version\n",
    "##############\n",
    "\n",
    "\n",
    "# Run simulation\n",
    "solution, t, spike_times = simulate_LIF(params, I_ext)\n",
    "\n",
    "# Plot the current input and the voltage output\n",
    "fig, ax = plt.subplots(2,1, figsize=(6,6), facecolor='white')\n",
    "fig.tight_layout(h_pad=2)\n",
    "y_min, y_max = -300, 1000 # Plotting parameters\n",
    "ax[0].plot(t, I_ext, color='black')\n",
    "ax[1].plot(t, solution, color='black')\n",
    "ax[0].set_title(r'$\\mu$ = %.1f | $\\sigma$ = %.2f' % (mu, sigma))\n",
    "ax[1].set_title('LIF Model Voltage Trace')\n",
    "ax[0].set_ylim(y_min, y_max)\n",
    "\n",
    "ax[0].set_ylabel(r'$I_{ext}$ (pA)')\n",
    "ax[1].set_ylabel(r'$V(t)$ (mV)')\n",
    "ax[1].set_xlabel('Time (ms)')\n",
    "plt.show()"
   ]
  },
  {
   "cell_type": "markdown",
   "id": "969ff21e-0848-4e17-84f9-e24234b48baa",
   "metadata": {},
   "source": [
    "**Play:** Change `sigma` to different settings. What do you observe?\n"
   ]
  },
  {
   "cell_type": "markdown",
   "id": "3822934f-04b9-479f-9437-e271ac39c373",
   "metadata": {},
   "source": [
    "Now that we have seen the effects of noiseless and noisy currents, let's begin asking our questions in the sections below"
   ]
  },
  {
   "cell_type": "markdown",
   "id": "f0503c25-9178-4501-ae1f-e0943e961900",
   "metadata": {},
   "source": [
    "### Section 3.2: Given a current input, how often does a neuron spike?"
   ]
  },
  {
   "cell_type": "markdown",
   "id": "db4f7c0f-6de9-49e2-9edd-0253b13428a2",
   "metadata": {},
   "source": [
    "This is a question of spike frequency. Frequency is the rate at which an event occurs over a unit of time. This can be expressed as: \n",
    "\n",
    "$$ Frequency = \\frac{\\text{\"Events\"}}{\\text{\"Time\"}} $$\n",
    "\n",
    "An example of this is beats per minute in heart rate (or music!). ($f = \\frac{\\text{# of beats}}{\\text{1 minute}}$)\n",
    "\n",
    "In the case of neuron modeling, we are interested in spikes per second. ($f = \\frac{\\text{# of spikes}}{\\text{1 second}}$)\n",
    "\n",
    "Number of events per second can be expressed as a unit Hertz: $Hz = \\frac{\\text{# of events}}{\\text{1 second}}$\n",
    "\n",
    "Therefore, if 5 spikes occur in 1 second, then the frequency of spiking is 5 Hz."
   ]
  },
  {
   "cell_type": "markdown",
   "id": "4e411a19-6284-4761-9ee4-96ffec52e0e3",
   "metadata": {},
   "source": [
    "Let's calculate a spike rate given some assumed noiseless input current, $I_{ext}$. First let's simulate an LIF model with a given input current of 250 pA."
   ]
  },
  {
   "cell_type": "code",
   "execution_count": 15,
   "id": "1888f7a6-f46c-40ef-b404-d54ee99fd59f",
   "metadata": {},
   "outputs": [],
   "source": [
    "# Choose current magnitude and initialize parameters\n",
    "mu = 250 #pA\n",
    "sigma = 0\n",
    "params = default_params()\n",
    "I_ext, t = my_GWN(params, mu, sigma)\n",
    "\n",
    "# Run simulation\n",
    "solution, t, spike_times = simulate_LIF(params, I_ext)"
   ]
  },
  {
   "cell_type": "markdown",
   "id": "67e6a3c3-a1f7-414d-b361-bbe254d1a0ec",
   "metadata": {},
   "source": [
    "The output of the simulation function is the voltage trace, the time range split into time steps, and an array of spike times.\n",
    "\n",
    "To calculate frequency, we are interested in using the number of spikes over a given range of time in units of spikes per second. To do this, we will need the `spike_times` array.\n",
    "\n",
    "**Code:** Complete the `spike_freq()` function."
   ]
  },
  {
   "cell_type": "code",
   "execution_count": 16,
   "id": "1631337f-b831-4a02-b02d-5d69f3618088",
   "metadata": {},
   "outputs": [],
   "source": [
    "# Calculate spike frequency\n",
    "def spike_freq(spike_times, params):\n",
    "    # Initialize simulation time\n",
    "    T = params['T']\n",
    "    T = T * (1 / 1000) # 1 second per 1000 milliseconds\n",
    "    \n",
    "    # Count number of spikes within simulation time\n",
    "    num_spikes = len(spike_times)\n",
    "    \n",
    "    #### TODO ####: \n",
    "    # Calculate spike frequency\n",
    "    freq = num_spikes / T ##TODO: Remove in student version\n",
    "    ##############\n",
    "    \n",
    "    return freq"
   ]
  },
  {
   "cell_type": "markdown",
   "id": "8b82cca6-9255-4ec0-8d25-21acb9d3c45c",
   "metadata": {},
   "source": [
    "Now that we've defined the spike frequency function, let's use it to calculate the number of spikes per second in Hz."
   ]
  },
  {
   "cell_type": "code",
   "execution_count": 17,
   "id": "d9c858b6-c3cc-40ef-a93b-9578b010fd75",
   "metadata": {},
   "outputs": [
    {
     "name": "stdout",
     "output_type": "stream",
     "text": [
      "Frequency = 53.33 Hz\n"
     ]
    }
   ],
   "source": [
    "freq = spike_freq(spike_times, params)\n",
    "print('Frequency = %.2f Hz' % freq)"
   ]
  },
  {
   "cell_type": "markdown",
   "id": "4c7dcfb6-3655-4bf0-95d1-561df014ca69",
   "metadata": {},
   "source": [
    "**Homework:** Is there a current $I_{ext}$ where the frequency should be zero? \n",
    "- How does this current relate to the steady state of the first equation in the LIF model?\n",
    "- How does this steady state relate to $V_{th}$?"
   ]
  },
  {
   "cell_type": "markdown",
   "id": "35c2834d-13ff-45e4-8a31-f4bfb9e414d5",
   "metadata": {},
   "source": [
    "Now that we have the spike frequency function, we could play with the $I_{ext}$ input one at a time and see what frequencies result, but let's go a step further."
   ]
  },
  {
   "cell_type": "markdown",
   "id": "96be9859-8f3a-4c80-8e03-316e8e4ff8c0",
   "metadata": {},
   "source": [
    "---"
   ]
  },
  {
   "cell_type": "markdown",
   "id": "385a2c23-dd2f-4587-ad90-4a483b28305b",
   "metadata": {},
   "source": [
    "#### Section 3.2.1: Generate an F-I Curve"
   ]
  },
  {
   "cell_type": "markdown",
   "id": "1993d20c-e435-41fc-a0e9-f5a030a6f72e",
   "metadata": {},
   "source": [
    "We may have observed in previous exercises that the \"spikes\" generated by the LIF model get more numerous and more frequent as we try higher current input magnitudes. But how do we clearly visualize the impact of current input on spike frequency?\n",
    "\n",
    "We can visualize this by producing an **F-I Curve**. This is a plot of frequencies as a result of a range of currents. F-I Curves are useful for visualizing the input-output relationship of our model neuron. \n",
    "\n",
    "Below we define the `FI_curve` function that generates the data we plot to produce an F-I curve. Read the comments to see what steps are taken in the function."
   ]
  },
  {
   "cell_type": "code",
   "execution_count": 18,
   "id": "d2d56f88-e1b2-4e7d-902a-de797ce59099",
   "metadata": {},
   "outputs": [],
   "source": [
    "def FI_curve(params, I_max=1000, I_step=50, sigma=0):\n",
    "    \n",
    "    # Initialize current ranges\n",
    "    I_range = np.arange(0, I_max, I_step)\n",
    "\n",
    "    # Define for loop over different current values\n",
    "    freq_rec = [] # Record frequency from each simulation\n",
    "\n",
    "    for I_ext in I_range:\n",
    "        # Produce time-varying current input\n",
    "        mu = I_ext\n",
    "        I_ext, t = my_GWN(params, mu, sigma)\n",
    "        \n",
    "        # Run simulation\n",
    "        solution, t, spike_times = simulate_LIF(params, I_ext)\n",
    "\n",
    "        # Calculate frequency\n",
    "        freq = spike_freq(spike_times, params)\n",
    "\n",
    "        # Record frequency\n",
    "        freq_rec.append(freq)\n",
    "    \n",
    "    return I_range, freq_rec"
   ]
  },
  {
   "cell_type": "markdown",
   "id": "29393fa7-2b34-4ba1-ade3-388564f0a6c2",
   "metadata": {},
   "source": [
    "**Visualize:** Produce an F-I Curve using the `FI_curve()` function."
   ]
  },
  {
   "cell_type": "code",
   "execution_count": 19,
   "id": "430b9f87-ff9e-4ff8-84ff-0c34396ee65b",
   "metadata": {},
   "outputs": [],
   "source": [
    "# Initialize parameters\n",
    "params = default_params()\n",
    "params['tau_m'] = 10.0\n",
    "\n",
    "I_max = 1000 # Maximum I_ext value in I_ext range\n",
    "I_step = 10 # Size of step in I_ext range\n",
    "\n",
    "I_ext_range, frequencies = FI_curve(params, I_max, I_step)"
   ]
  },
  {
   "cell_type": "code",
   "execution_count": 20,
   "id": "467b0961-0a5d-4ca5-9447-7b5378da0d12",
   "metadata": {},
   "outputs": [
    {
     "data": {
      "image/png": "[encoded data removed]",
      "text/plain": [
       "<Figure size 600x400 with 1 Axes>"
      ]
     },
     "metadata": {},
     "output_type": "display_data"
    }
   ],
   "source": [
    "# Plot the F-I Curve\n",
    "fig, ax = plt.subplots(1,1, figsize=(6,4), facecolor='white')\n",
    "fig.tight_layout()\n",
    "# y_min, y_max = -300, 1000 # Plotting parameters\n",
    "ax.plot(I_ext_range, frequencies, color='black')\n",
    "ax.set_title(r'FI-Curve | $\\sigma=0$')\n",
    "\n",
    "ax.set_ylabel('Frequency (Hz)')\n",
    "ax.set_xlabel(r'$I_{ext}$ (pA)')\n",
    "plt.show()"
   ]
  },
  {
   "cell_type": "markdown",
   "id": "52d2d256-e81e-4581-9251-1249faba3eaf",
   "metadata": {},
   "source": [
    "**Play:** What happens if you increase the maximum range of the current, `I_max`, to be much larger? Why might you see this particular feature at higher values of $I_{ext}$?\n",
    "\n",
    "**Play:** Try different values for the `tau_m` parameter of the LIF model. See above, change the value in the line: `params['tau_m'] = 10.0`). How does this value impact the F-I curve? \n",
    "\n",
    "(*Hint:* Pay attention to the y-axis)"
   ]
  },
  {
   "cell_type": "markdown",
   "id": "45c52fdb-a6a2-4f79-bd8f-3dbbd10898fe",
   "metadata": {},
   "source": [
    "---"
   ]
  },
  {
   "cell_type": "markdown",
   "id": "f70c7307-c6d0-4da0-9d29-b7f53669d537",
   "metadata": {},
   "source": [
    "A notable feature of this neuron is the current at which the neuron begins spiking, which is called the **Rheobase**. It can be observed in an F-I curve fairly easily. \n",
    "\n",
    "**Think:** What is the rheobase for this LIF neuron?\n",
    "\n",
    "**Homework:** Plot and compare the F-I curves of neuron models with different settings of `tau_m`. \n",
    "- How does `tau_m` impact the rheobase of the neuron?"
   ]
  },
  {
   "cell_type": "markdown",
   "id": "9ce8a352-0ff0-4fb1-988e-c6609843456b",
   "metadata": {},
   "source": [
    "---"
   ]
  },
  {
   "cell_type": "markdown",
   "id": "30c0d1cf-e33a-4ea9-9cad-c085e95eb4b0",
   "metadata": {},
   "source": [
    "#### Section 3.2.2: How does input noise impact the F-I curve of a LIF model?"
   ]
  },
  {
   "cell_type": "markdown",
   "id": "0620a594-0960-42a1-a441-b82b052a759d",
   "metadata": {},
   "source": [
    "So far you've investigated how the magnitude of a noiseless current impacts the spiking frequency of an LIF model. This leaves another investigation: *\"How does the variability of noisy current impact the spiking frequency of a neuron?\"*\n",
    "\n",
    "**Visualize:** Plot an F-I curve with input noise included."
   ]
  },
  {
   "cell_type": "code",
   "execution_count": 21,
   "id": "afeeee14-19bd-4fe8-9218-c67e4c2fa143",
   "metadata": {},
   "outputs": [
    {
     "data": {
      "image/png": "[encoded data removed]",
      "text/plain": [
       "<Figure size 600x400 with 1 Axes>"
      ]
     },
     "metadata": {},
     "output_type": "display_data"
    }
   ],
   "source": [
    "# Initialize parameters\n",
    "params = default_params()\n",
    "params['T'] = 1000 # 1 second of simulation time\n",
    "\n",
    "I_max = 1000\n",
    "I_step = 10\n",
    "\n",
    "sigma = 0 # Change sigma value and plot the results below!\n",
    "\n",
    "# Generate F-I curve values\n",
    "I_ext_range, frequencies = FI_curve(params, I_max, I_step, sigma)\n",
    "\n",
    "# Plot the F-I Curve\n",
    "fig, ax = plt.subplots(1,1, figsize=(6,4), facecolor='white')\n",
    "fig.tight_layout()\n",
    "ax.plot(I_ext_range, frequencies, color='black')\n",
    "ax.set_title(r'FI-Curve | $\\sigma=%.3f$' % sigma)\n",
    "ax.set_ylabel('Frequency (Hz)')\n",
    "ax.set_xlabel(r'$I_{ext}$ (pA)')\n",
    "plt.show()"
   ]
  },
  {
   "cell_type": "markdown",
   "id": "c3b44804-f33a-4f8f-9260-d09feece69c0",
   "metadata": {},
   "source": [
    "**Play:** Use the `FI_curve` function to explore how different `sigma` settings for the GWN input impacts the F-I curve. \n",
    "- What happens to the rheobase?\n",
    "- How would you describe the shape of the F-I curve with and without noise?\n",
    "- Set `I_max = 5000`, and look at the shape of the F-I curve with and without noise. What changes and what stays the same? Is this relevant to biology?"
   ]
  },
  {
   "cell_type": "markdown",
   "id": "837acb89-b7a3-489e-980e-14d311cd3d50",
   "metadata": {},
   "source": [
    "**Think:** Answer this section's question: *Given a current input, how often does a neuron spike?*"
   ]
  },
  {
   "cell_type": "markdown",
   "id": "e931e861-aa70-4714-a85f-480a2d1c2f96",
   "metadata": {},
   "source": [
    "---"
   ]
  },
  {
   "cell_type": "markdown",
   "id": "ef143b7a-9f75-4eea-b5dd-4269680268b9",
   "metadata": {},
   "source": [
    "### Section 3.2: Given a current input, how regularly or irregularly does a neuron spike?"
   ]
  },
  {
   "cell_type": "markdown",
   "id": "5f2589f2-ef8f-46e3-b7a7-aa1e61ddcb96",
   "metadata": {},
   "source": [
    "In the previous section, we quantified how often a neuron spikes as a measure of spike frequency and visualized how the external current $I_{ext}$ impacts this quantity. \n",
    "\n",
    "In this section we will explore the question of spike regularity. How can we quantify this?\n",
    "\n",
    "To begin, we can see that a notable observable feature of a voltage trace is the inter-spike interval (ISI). This is the difference between one spike and the next."
   ]
  },
  {
   "cell_type": "markdown",
   "id": "e3f7c47b-c5a0-4968-98f3-2eee8deed7d5",
   "metadata": {},
   "source": [
    "<div>\n",
    "<img src=\"./images/3_ISI.svg\" width=\"400\"/>\n",
    "</div>"
   ]
  },
  {
   "cell_type": "markdown",
   "id": "62b7bd6d-8dc8-49f8-b2c8-e995c4ceebd0",
   "metadata": {},
   "source": [
    "Spike regularity relates to the distribution of ISI between all spikes in a voltage trace.\n",
    "\n",
    "Let's consider 2 possibilities for regularity. \n",
    "- IF all of the ISIs would be the same, the neuron would be completely regular (clock-like)\n",
    "- If all of the ISIs were random, the neuron would be irregular to some degree\n",
    "\n",
    "If we plotted these possibilities as histograms, the histograms may look like the cartoon below:"
   ]
  },
  {
   "cell_type": "markdown",
   "id": "cf7a843a-a1fe-4498-9249-6aeddae2bd5b",
   "metadata": {},
   "source": [
    "<div>\n",
    "<img src=\"./images/4_ISI_hist.png\" width=\"600\">\n",
    "</div>"
   ]
  },
  {
   "cell_type": "markdown",
   "id": "02be8a5f-b040-42fc-a9b7-c89c81ccd66d",
   "metadata": {},
   "source": [
    "**Think:** Predict what this histogram would look like if the ISIs were completely irregular."
   ]
  },
  {
   "cell_type": "markdown",
   "id": "77464ee3-4d86-49fa-b6b6-23cf0a6c1e9f",
   "metadata": {},
   "source": [
    "To investigate spike regularity we can do these 3 things, which we'll explore in the following sections:\n",
    "1. Measure all ISIs in a voltage trace\n",
    "2. Visualize the ISIs in a histogram\n",
    "3. Calculate a measure of regularity"
   ]
  },
  {
   "cell_type": "markdown",
   "id": "db0c2c25-b200-4021-afa1-5e4513804b27",
   "metadata": {},
   "source": [
    "---"
   ]
  },
  {
   "cell_type": "markdown",
   "id": "aa0a7c70-e467-4126-bd6c-bf5d8e4f60ea",
   "metadata": {},
   "source": [
    "#### Section 3.2.1: Measure Inter-Spike Interval and Visualize Histogram"
   ]
  },
  {
   "cell_type": "markdown",
   "id": "1a261757-b86d-4bf5-a2c9-cc2665dd9b2a",
   "metadata": {},
   "source": [
    "First, let's get spike times from a LIF simulation."
   ]
  },
  {
   "cell_type": "code",
   "execution_count": 22,
   "id": "0d541f77-7217-4247-a006-8c4fcb3c0ff5",
   "metadata": {},
   "outputs": [],
   "source": [
    "# Simulate a LIF neuron to get spike times\n",
    "\n",
    "# Choose current magnitude and initialize parameters\n",
    "I_ext = 250 #pA\n",
    "params = default_params()\n",
    "# params['T'] = 50.0\n",
    "\n",
    "\n",
    "# Run simulation\n",
    "solution, t, spike_times = simulate_LIF(params, I_ext)"
   ]
  },
  {
   "cell_type": "code",
   "execution_count": 23,
   "id": "7f14d903-840b-4cdc-adf1-6240f0247059",
   "metadata": {},
   "outputs": [
    {
     "name": "stdout",
     "output_type": "stream",
     "text": [
      "Spike Times:\n",
      " [162, 343, 524, 705, 886, 1067, 1248, 1429]\n",
      "# of Spikes:  8\n"
     ]
    }
   ],
   "source": [
    "print('Spike Times:\\n',spike_times)\n",
    "print('# of Spikes: ', len(spike_times))"
   ]
  },
  {
   "cell_type": "markdown",
   "id": "22c24ce4-d8f5-472b-a247-91fb538a0cdd",
   "metadata": {},
   "source": [
    "Let's calculate ISI. It can be summarized in the following equation\n",
    "\n",
    "$ISI = \\text{spiketime}_p - \\text{spiketime}_{p-1}$\n",
    "\n",
    "Note that the units of `spike_times` array is a function of $dt$. This may not be in units of milliseconds! If `dt = 0.1`, then a spike time of 100 is actually: \n",
    "\n",
    "$$ \\text{spike_time} * dt = 100 * 0.1 \\text{ms} = 10.0 \\text{ms}$$\n",
    "\n",
    "Therefore, we need to convert `spike_times` to milliseconds, and then calculate the difference in spike times.\n",
    "\n",
    "**Code:** Calculate the difference in spike times between all pairs of spikes using the `np.diff()` function.\n",
    "\n",
    "(*Hint:* use the `help(np.diff)` to view the documentation for `np.diff()`.)"
   ]
  },
  {
   "cell_type": "code",
   "execution_count": 24,
   "id": "667955da-83ab-4a85-a451-c65a2571005a",
   "metadata": {},
   "outputs": [
    {
     "name": "stdout",
     "output_type": "stream",
     "text": [
      "Calculated ISIs: [18.1 18.1 18.1 18.1 18.1 18.1 18.1]\n"
     ]
    }
   ],
   "source": [
    "# Calculate an array of ISIs from the array of spike_times\n",
    "\n",
    "spike_times_ms = np.array(spike_times) * params['dt']\n",
    "\n",
    "# Use the np.diff function to find the ISIs of spike_times_ms\n",
    "\n",
    "#### TODO ####:\n",
    "# Calculate ISIs using the np.diff function\n",
    "ISI_array = np.diff(spike_times_ms) # TODO: Remove in student version\n",
    "##############\n",
    "\n",
    "print('Calculated ISIs:', ISI_array)"
   ]
  },
  {
   "cell_type": "markdown",
   "id": "f7e07f05-c6d8-4c00-9e61-ebbac6592a28",
   "metadata": {},
   "source": [
    "Now let's make a histogram of our ISIs. We can do so using the `plt.hist()` function"
   ]
  },
  {
   "cell_type": "code",
   "execution_count": 25,
   "id": "4f9d51ac-05af-4053-854d-dd6563090b41",
   "metadata": {},
   "outputs": [
    {
     "data": {
      "image/png": "[encoded data removed]",
      "text/plain": [
       "<Figure size 600x300 with 1 Axes>"
      ]
     },
     "metadata": {},
     "output_type": "display_data"
    }
   ],
   "source": [
    "\n",
    "# Initialize histogram visualization settings\n",
    "bins = 50 # Number of bins the ISI_range is split up into\n",
    "ISI_range = (10, 30) # Range of ISIs included\n",
    "\n",
    "# Plot histogram\n",
    "fig, ax = plt.subplots(1,1,figsize=(6,3),facecolor='white')\n",
    "fig.tight_layout()\n",
    "ax.hist(ISI_array, range=ISI_range, bins=bins, color='lightblue')\n",
    "ax.set_xlabel('Inter-Spike Interval')\n",
    "ax.set_ylabel('Count')\n",
    "plt.show()"
   ]
  },
  {
   "cell_type": "markdown",
   "id": "61e119a2-4b8e-40c7-af05-258c99042983",
   "metadata": {},
   "source": [
    "**Think:** How regular is this LIF neuron output? Does this change when we try different $I_{ext}$ current magnitudes?"
   ]
  },
  {
   "cell_type": "markdown",
   "id": "b0e88ec7-b44e-41dd-b844-ab9d3beb10d8",
   "metadata": {},
   "source": [
    "---"
   ]
  },
  {
   "cell_type": "markdown",
   "id": "43f7b6ab-b28a-442c-9b80-f6411665ed24",
   "metadata": {},
   "source": [
    "#### Section 3.2.2: Visualize the impact of noise on Inter-Spike Intervals"
   ]
  },
  {
   "cell_type": "markdown",
   "id": "d8e8eec0-c20f-475a-8faf-7684f92b966a",
   "metadata": {},
   "source": [
    "How might input current noise have an impact on regularity? Let's visualize this using a histogram.\n",
    "\n",
    "Below we will\n",
    "1. Run a LIF simulation \n",
    "    a. with a non-noisy current\n",
    "    b. with a noisy current\n",
    "2. Calculate ISI's for both sets of spike times\n",
    "3. Plot both in histograms for comparison"
   ]
  },
  {
   "cell_type": "code",
   "execution_count": 26,
   "id": "a2e939d1-ea42-420d-9166-90aa56b59558",
   "metadata": {},
   "outputs": [
    {
     "data": {
      "image/png": "[encoded data removed]",
      "text/plain": [
       "<Figure size 600x600 with 2 Axes>"
      ]
     },
     "metadata": {},
     "output_type": "display_data"
    }
   ],
   "source": [
    "# Run LIF simulations for noisy and non-noisy currents\n",
    "\n",
    "# Initialize parameters\n",
    "params = default_params()\n",
    "params['T'] = 10000\n",
    "\n",
    "# Choose current input settings\n",
    "I_ext = 250 # pA\n",
    "\n",
    "mu = I_ext\n",
    "sigma_noiseless = 0\n",
    "sigma_noisy = 1\n",
    "\n",
    "# Initialize Current Input\n",
    "I_ext_noiseless, t = my_GWN(params, mu, sigma_noiseless)\n",
    "I_ext_noisy, t = my_GWN(params, mu, sigma_noisy)\n",
    "\n",
    "\n",
    "### Run simulations ###\n",
    "\n",
    "# Non-noisy current simulation\n",
    "solution_noiseless, t, spike_times_noiseless = simulate_LIF(params, I_ext_noiseless)\n",
    "\n",
    "# Noisy current simulation\n",
    "solution_noisy, t, spike_times_noisy = simulate_LIF(params, I_ext_noisy)\n",
    "\n",
    "# Convert spike times to milliseconds\n",
    "spike_times_noiseless_ms = np.array(spike_times_noiseless) * params['dt']\n",
    "spike_times_noisy_ms = np.array(spike_times_noisy) * params['dt']\n",
    "\n",
    "## Calculate ISIs\n",
    "ISI_noiseless = np.diff(spike_times_noiseless_ms)\n",
    "ISI_noisy = np.diff(spike_times_noisy_ms)\n",
    "\n",
    "\n",
    "### Plot Histograms ###\n",
    "\n",
    "# Initialize histogram plotting parameters\n",
    "bins = 50\n",
    "ISI_range = (10, 30)\n",
    "\n",
    "# Plot histogram\n",
    "fig, ax = plt.subplots(2,1, figsize=(6,6), facecolor='white')\n",
    "fig.tight_layout(h_pad=2)\n",
    "ax[0].hist(ISI_noiseless, bins=bins, range=ISI_range, label='noiseless', color='lightblue')\n",
    "ax[1].hist(ISI_noisy, bins=bins, range=ISI_range, label='noisy', color='coral')\n",
    "ax[1].set_xlabel('Inter-Spike Interval (ms)')\n",
    "ax[0].set_ylabel('Count')\n",
    "ax[1].set_ylabel('Count')\n",
    "ax[0].set_title(r'ISI Distribution | $\\mu=%.1f$ | $\\sigma=%.3f$' % (mu, sigma_noiseless))\n",
    "ax[1].set_title(r'ISI Distribution | $\\mu=%.1f$ | $\\sigma=%.3f$' % (mu, sigma_noisy))\n",
    "fig.legend()\n",
    "plt.show()\n"
   ]
  },
  {
   "cell_type": "markdown",
   "id": "28ad7db8-e3f4-43b6-95e6-bd19468d67f4",
   "metadata": {},
   "source": [
    "**Play**: Change $\\sigma$ and observe what happens to the ISIs."
   ]
  },
  {
   "cell_type": "markdown",
   "id": "a60fdddc-95af-4f4e-aa66-8eaa36beabbd",
   "metadata": {},
   "source": [
    "---"
   ]
  },
  {
   "cell_type": "markdown",
   "id": "75594f5c-c684-4537-843a-e4a80aee3131",
   "metadata": {},
   "source": [
    "#### Section 3.2.3: Quantify regularity with coefficient of variance"
   ]
  },
  {
   "cell_type": "markdown",
   "id": "f7f4c515-5884-49ba-aafb-58276dd0c74a",
   "metadata": {},
   "source": [
    "We've visualized when LIF model voltage output yields some degree of irregular spike times. But how do we quantify this irregularity?\n",
    "\n",
    "For this, we use the **Coefficient of variance of inter-spike interval**, or $CV_{ISI}$, which has the following equation:\n",
    "\n",
    "$$ CV_{ISI} = \\frac{std_{ISI}}{mean_{ISI}} $$\n",
    "\n",
    "where $std_{ISI}$ and $mean_{ISI}$ are the standard deviation and mean of the set of ISIs of the neuron's voltage output.\n",
    "\n",
    "**Think:** This is a ratio that is between 0 and 1. Sketch or discuss the shape of the histogram of ISI's that would correspond to when $CV_{ISI} = 0$ and when $CV_{ISI} = 1$. (*Hint:* What values of $CV_{ISI}$ would correspond to complete regularity and complete irregularity?)"
   ]
  },
  {
   "cell_type": "markdown",
   "id": "6b7b1dd6-27bc-4cc8-bed3-6088b94aca3f",
   "metadata": {},
   "source": [
    "Below, let's define a function `get_CV()` that will quantify the $CV_{ISI}$, given a set of spike times. Use `np.mean()` and `np.std()` to find the mean and standard deviation of the ISIs within the function. Then use these values to calculate $CV_{ISI}$ Use the `help()` function to see the documentation of these functions to figure out the input arguments."
   ]
  },
  {
   "cell_type": "code",
   "execution_count": 27,
   "id": "fa4a8e44-a5ce-4aa0-a45e-3fcd2354b0f2",
   "metadata": {},
   "outputs": [],
   "source": [
    "# Define function to calculate coefficient of variance of ISI \n",
    "\n",
    "def get_CV(spike_times_array):\n",
    "    isi_array = np.diff(spike_times_array) # Calculate ISIs\n",
    "    \n",
    "    #### TODO ####:\n",
    "    # Use np.mean and np.std to find mean and standard deviation\n",
    "    mean_isi = np.mean(isi_array) # Remove in student version\n",
    "    std_isi = np.std(isi_array)\n",
    "    # Calculate CV\n",
    "    cv = std_isi / mean_isi\n",
    "    ##############\n",
    "    return cv"
   ]
  },
  {
   "cell_type": "markdown",
   "id": "542a2fb2-bc21-41b4-a944-7696948f5dde",
   "metadata": {},
   "source": [
    "Now let's put it all together. Using the code below, change the `sigma` and `mu` parameters for the noisy input and view how it impacts CV and the ISI histogram. We'll also print the minimum, maximum, mean, and standard deviation of each ISI histogram. The plotting function will display the calculated $CV_{ISI}$ for each simulation."
   ]
  },
  {
   "cell_type": "code",
   "execution_count": 28,
   "id": "66020e4c-a556-443d-aae3-4bfdec2769c4",
   "metadata": {},
   "outputs": [
    {
     "data": {
      "image/png": "[encoded data removed]",
      "text/plain": [
       "<Figure size 600x600 with 2 Axes>"
      ]
     },
     "metadata": {},
     "output_type": "display_data"
    },
    {
     "name": "stdout",
     "output_type": "stream",
     "text": [
      "ISI_noiseless Statistics\n",
      "Min: 18.1 | Max: 18.1\n",
      "Mean: 18.1 | Std: 0.0\n",
      "\n",
      "\n",
      "ISI_noisy Statistics\n",
      "Min: 14.3 | Max: 22.7\n",
      "Mean: 18.0 | Std: 1.3\n"
     ]
    }
   ],
   "source": [
    "# Run LIF simulations for noisy and non-noisy currents\n",
    "\n",
    "# Choose current input settings\n",
    "mu = 250 # pA\n",
    "sigma_noiseless = 0\n",
    "sigma_noisy = 1\n",
    "\n",
    "# Plotting parameters\n",
    "hist_minimum = 0\n",
    "hist_maximum = 70\n",
    "hist_bins = 100\n",
    "\n",
    "# Initialize parameters\n",
    "params = default_params()\n",
    "params['T'] = 10000 # Setting this to 10 seconds to get more recorded spikes\n",
    "\n",
    "# Initialize input currents\n",
    "I_ext_noiseless, t = my_GWN(params, mu, sigma_noiseless)\n",
    "I_ext_noisy, t = my_GWN(params, mu, sigma_noisy)\n",
    "\n",
    "\n",
    "### Run LIF simulations ###\n",
    "\n",
    "# Non-noisy current simulation\n",
    "solution_noiseless, t, spike_times_noiseless = simulate_LIF(params, I_ext_noiseless)\n",
    "\n",
    "# Noisy current simulation\n",
    "solution_noisy, t, spike_times_noisy = simulate_LIF(params, I_ext_noisy)\n",
    "\n",
    "# Convert spike times to milliseconds\n",
    "spike_times_noiseless_ms = np.array(spike_times_noiseless) * params['dt'] # convert to milliseconds\n",
    "spike_times_noisy_ms = np.array(spike_times_noisy) * params['dt'] # convert to milliseconds\n",
    "\n",
    "# Calculate ISIs\n",
    "ISI_noiseless = np.diff(spike_times_noiseless_ms)\n",
    "ISI_noisy = np.diff(spike_times_noisy_ms)\n",
    "\n",
    "# Calculate CVs\n",
    "CV_noiseless = get_CV(spike_times_noiseless_ms)\n",
    "CV_noisy = get_CV(spike_times_noisy_ms)\n",
    "\n",
    "\n",
    "### Plot Histograms with info in titles of graphs: ###\n",
    "\n",
    "# Histogram plotting parameters\n",
    "ISI_range = (hist_minimum, hist_maximum)\n",
    "\n",
    "# Plot histograms\n",
    "fig, ax = plt.subplots(2,1, figsize=(6,6), facecolor='white')\n",
    "fig.tight_layout(h_pad=2)\n",
    "ax[0].hist(ISI_noiseless, bins=hist_bins, range=ISI_range, label='noiseless', color='blue')\n",
    "ax[1].hist(ISI_noisy, bins=hist_bins, range=ISI_range, label='noisy', color='orange')\n",
    "\n",
    "# Display simulation info and CV\n",
    "ax[0].set_title(('mu = %.2f | sigma = 0.0 | CV = %.3f' % (I_ext, CV_noiseless)))\n",
    "ax[1].set_title(('mu = %.2f | sigma = %.2f | CV = %.3f' % (mu, sigma, CV_noisy)))\n",
    "fig.legend()\n",
    "plt.show()\n",
    "\n",
    "# Print statistics\n",
    "print('ISI_noiseless Statistics')\n",
    "print('Min: %.1f | Max: %.1f' % (np.min(ISI_noiseless), np.max(ISI_noiseless)))\n",
    "print('Mean: %.1f | Std: %.1f' % (np.mean(ISI_noiseless), np.std(ISI_noiseless)))\n",
    "print('\\n')\n",
    "\n",
    "\n",
    "print('ISI_noisy Statistics')\n",
    "print('Min: %.1f | Max: %.1f' % (np.min(ISI_noisy), np.max(ISI_noisy)))\n",
    "print('Mean: %.1f | Std: %.1f' % (np.mean(ISI_noisy), np.std(ISI_noisy)))"
   ]
  },
  {
   "cell_type": "markdown",
   "id": "04dc1b98-c3fb-4315-a23c-cf66de353158",
   "metadata": {},
   "source": [
    "**Play:** Try different noisy input current settings for `mu` and `sigma_noisy`. How does increasing or decreasing these input parameter values change shape of the ISI histogram?\n",
    "\n",
    "**Think:** Set `mu=250`, `sigma_noisy=25`, and `hist_bins=100`. \n",
    "- What is the shape of the resulting histogram for the noisy input? \n",
    "- What kind of function would best fit the resulting histogram for the noisy input?\n",
    "\n",
    "\n",
    "**Think:** Answer this section's question: *\"Given a current input, how regularly or irregularly does a neuron spike?\"*\n"
   ]
  },
  {
   "cell_type": "markdown",
   "id": "1824406c-6921-4024-960f-f1de0cfc1897",
   "metadata": {},
   "source": [
    "---"
   ]
  },
  {
   "cell_type": "markdown",
   "id": "1f4c9fdc-742c-492d-b73c-7f8a7e70f91a",
   "metadata": {},
   "source": [
    "## Conclusion"
   ]
  },
  {
   "cell_type": "markdown",
   "id": "db200383-d7e2-4ab8-8e8c-1218837740f0",
   "metadata": {},
   "source": [
    "In this tutorial you have:\n",
    "1. Built a simplified biophysical model of a neuron, the leaky-integrate and fire model. \n",
    "2. Investigated how this model relates different kinds of current input to different kinds of output. \n",
    "3. Quantified how frequently and regularly this model fires action potentials as a function of its current input.\n",
    "\n",
    "Use this tutorial and your notes to think about how you might build on the LIF model or develop other models in order to answer your questions. When you are in the process of building a model, deliberately consider what empirical properties you wish to include or exclude. Once you have a neuron model, think about how it transforms its input to output, and how to represent or quantify this relationship to either answer your questions or explore how your model impacts this relationship. Lastly, are there modifiable properties of your model that allow it to best reproduce the input-output relationships you see in data from real neurons? How would you validate this LIF model?"
   ]
  },
  {
   "cell_type": "markdown",
   "id": "e4d8b86a-e6ac-447f-b38b-c700af237139",
   "metadata": {},
   "source": [
    "<div>\n",
    "<img src=\"./images/5_Overview.png\" width=\"600\">\n",
    "</div>"
   ]
  },
  {
   "cell_type": "markdown",
   "id": "92e1c053-f683-4770-93ac-309cd57d6a93",
   "metadata": {},
   "source": [
    "Mini-projects draft:\n",
    "1. When given an external current *in vitro*, a recorded voltage trace of a neuron can exhibit a feature called \"adaptation\". Use a \"Generalized\" LIF model to reproduce this feature, then use our I/O analysis methods to see how GLIF and LIF differ (frequency, regularity)\n",
    "2. Simulate the HH model. Use our I/O analysis methods on the model to characterize it. What happens if you remove $I_{Na}$? Remove $I_K$? Remove $I_{leak}$?\n",
    "\n",
    "Projects draft:\n",
    "1. Compare a LIF model to a HH model (make the HH model). This requires fitting the LIF model to the HH model. Use resources for model fitting."
   ]
  },
  {
   "cell_type": "code",
   "execution_count": null,
   "id": "cd5a0429-d7ed-476f-9a6e-6bb40fab5c47",
   "metadata": {},
   "outputs": [],
   "source": [
    "\n"
   ]
  }
 ],
 "metadata": {
  "kernelspec": {
   "display_name": "Python 3 (ipykernel)",
   "language": "python",
   "name": "python3"
  },
  "language_info": {
   "codemirror_mode": {
    "name": "ipython",
    "version": 3
   },
   "file_extension": ".py",
   "mimetype": "text/x-python",
   "name": "python",
   "nbconvert_exporter": "python",
   "pygments_lexer": "ipython3",
   "version": "3.11.0"
  }
 },
 "nbformat": 4,
 "nbformat_minor": 5
}
