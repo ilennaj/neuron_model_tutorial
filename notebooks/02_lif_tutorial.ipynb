{
 "cells": [
  {
   "cell_type": "markdown",
   "id": "65a67561-99e5-4d90-bee7-1ab7d7b4afba",
   "metadata": {
    "tags": []
   },
   "source": [
    "# Neuron Model Tutorial\n",
    "\n",
    "## Objectives:\n",
    "- Use ODEs to build an Integrate and Fire Model\n",
    "- Expand on Integrate and Fire Model to make a Leaky Integrate and Fire Model\n",
    "- Compare both models"
   ]
  },
  {
   "cell_type": "markdown",
   "id": "e21622c7-d49f-4375-97fd-dcc9c2f49837",
   "metadata": {},
   "source": [
    "## Install Packages"
   ]
  },
  {
   "cell_type": "code",
   "execution_count": 1,
   "id": "af26fab2-7c26-4945-96d0-72684ff77c4a",
   "metadata": {},
   "outputs": [
    {
     "name": "stdout",
     "output_type": "stream",
     "text": [
      "Processing ./dependencies/numpy/numpy-1.24.2-cp311-cp311-manylinux_2_17_x86_64.manylinux2014_x86_64.whl\n",
      "numpy is already installed with the same version as the provided wheel. Use --force-reinstall to force an installation of the wheel.\n"
     ]
    }
   ],
   "source": [
    "!pip install ./dependencies/numpy/*"
   ]
  },
  {
   "cell_type": "code",
   "execution_count": 2,
   "id": "69a1fa65-04ba-4178-84a3-c2a6ea2ff047",
   "metadata": {},
   "outputs": [
    {
     "name": "stdout",
     "output_type": "stream",
     "text": [
      "Processing ./dependencies/matplotlib/Pillow-9.5.0-cp311-cp311-manylinux_2_28_x86_64.whl\n",
      "Processing ./dependencies/matplotlib/contourpy-1.0.7-cp311-cp311-manylinux_2_17_x86_64.manylinux2014_x86_64.whl\n",
      "Processing ./dependencies/matplotlib/cycler-0.11.0-py3-none-any.whl\n",
      "Processing ./dependencies/matplotlib/fonttools-4.39.3-py3-none-any.whl\n",
      "Processing ./dependencies/matplotlib/kiwisolver-1.4.4-cp311-cp311-manylinux_2_17_x86_64.manylinux2014_x86_64.whl\n",
      "Processing ./dependencies/matplotlib/matplotlib-3.7.1-cp311-cp311-manylinux_2_17_x86_64.manylinux2014_x86_64.whl\n",
      "Processing ./dependencies/matplotlib/numpy-1.24.2-cp311-cp311-manylinux_2_17_x86_64.manylinux2014_x86_64.whl\n",
      "Processing ./dependencies/matplotlib/packaging-23.0-py3-none-any.whl\n",
      "Processing ./dependencies/matplotlib/pyparsing-3.0.9-py3-none-any.whl\n",
      "Processing ./dependencies/matplotlib/python_dateutil-2.8.2-py2.py3-none-any.whl\n",
      "Processing ./dependencies/matplotlib/six-1.16.0-py2.py3-none-any.whl\n",
      "Pillow is already installed with the same version as the provided wheel. Use --force-reinstall to force an installation of the wheel.\n",
      "contourpy is already installed with the same version as the provided wheel. Use --force-reinstall to force an installation of the wheel.\n",
      "cycler is already installed with the same version as the provided wheel. Use --force-reinstall to force an installation of the wheel.\n",
      "fonttools is already installed with the same version as the provided wheel. Use --force-reinstall to force an installation of the wheel.\n",
      "kiwisolver is already installed with the same version as the provided wheel. Use --force-reinstall to force an installation of the wheel.\n",
      "matplotlib is already installed with the same version as the provided wheel. Use --force-reinstall to force an installation of the wheel.\n",
      "numpy is already installed with the same version as the provided wheel. Use --force-reinstall to force an installation of the wheel.\n",
      "packaging is already installed with the same version as the provided wheel. Use --force-reinstall to force an installation of the wheel.\n",
      "pyparsing is already installed with the same version as the provided wheel. Use --force-reinstall to force an installation of the wheel.\n",
      "python-dateutil is already installed with the same version as the provided wheel. Use --force-reinstall to force an installation of the wheel.\n",
      "six is already installed with the same version as the provided wheel. Use --force-reinstall to force an installation of the wheel.\n"
     ]
    }
   ],
   "source": [
    "!pip install ./dependencies/matplotlib/*"
   ]
  },
  {
   "cell_type": "markdown",
   "id": "94200608-31de-4881-b5bc-09908e5510dd",
   "metadata": {},
   "source": [
    "## Import Packages"
   ]
  },
  {
   "cell_type": "code",
   "execution_count": 3,
   "id": "1354da27-eca7-4855-8ae0-3dd87f6ae7c3",
   "metadata": {},
   "outputs": [],
   "source": [
    "import numpy as np\n",
    "import matplotlib.pyplot as plt"
   ]
  },
  {
   "cell_type": "markdown",
   "id": "3c51b465-bd88-413e-bd1c-8c3213025e4a",
   "metadata": {},
   "source": [
    "## Set up Helper Functions"
   ]
  },
  {
   "cell_type": "code",
   "execution_count": null,
   "id": "b81f7420-eb6c-48d4-991a-167590f06e23",
   "metadata": {},
   "outputs": [],
   "source": []
  },
  {
   "cell_type": "code",
   "execution_count": null,
   "id": "07573d70-0466-4fee-8344-c61e673211bb",
   "metadata": {},
   "outputs": [],
   "source": []
  }
 ],
 "metadata": {
  "kernelspec": {
   "display_name": "Python 3 (ipykernel)",
   "language": "python",
   "name": "python3"
  },
  "language_info": {
   "codemirror_mode": {
    "name": "ipython",
    "version": 3
   },
   "file_extension": ".py",
   "mimetype": "text/x-python",
   "name": "python",
   "nbconvert_exporter": "python",
   "pygments_lexer": "ipython3",
   "version": "3.11.0"
  }
 },
 "nbformat": 4,
 "nbformat_minor": 5
}
