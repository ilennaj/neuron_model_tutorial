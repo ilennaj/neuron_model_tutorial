{
 "cells": [
  {
   "cell_type": "markdown",
   "id": "375ab84d-3e4a-42f4-b580-d8cbce3d2291",
   "metadata": {},
   "source": [
    "# Mini-Projects"
   ]
  },
  {
   "cell_type": "markdown",
   "id": "e460be88-e0a4-4470-bc3a-61d51461ac5f",
   "metadata": {},
   "source": [
    "## Section 0: I want to review the fundamentals (1-D ODEs)"
   ]
  },
  {
   "cell_type": "markdown",
   "id": "84ab4a3c-7bcd-4e70-8094-cdcd881484bd",
   "metadata": {},
   "source": [
    "### Mini-Project 0.1: Build More ODE Intuition"
   ]
  },
  {
   "cell_type": "markdown",
   "id": "2c655266-5e11-4fb4-8e60-7e2764d23cd1",
   "metadata": {},
   "source": [
    "See the following 1-dimensional ODEs:\n",
    "1. $\\dot{x} = a$\n",
    "2. $\\dot{x} = ax$\n",
    "3. $\\dot{x} = ax(1-\\frac{x}{K})$\n",
    "\n",
    "4. $\\dot{x} = a - x$\n",
    "5. $\\dot{x} = x^2$\n",
    "6. $\\dot{x} = e^{ax}$\n",
    "7. $\\dot{x} = e^{(a-x)}$\n",
    "\n",
    "In the ODE tutorial you explored equations 1 through 3. For this mini-project, do the following for equations 4-7."
   ]
  },
  {
   "cell_type": "markdown",
   "id": "275e2cf0-e003-4078-ab53-54b218852b84",
   "metadata": {},
   "source": [
    "Do the following for equations 4-7.\n",
    "\n",
    "1. Find the analytical solution\n",
    "2. Numerically solve the equation\n",
    "3. How do the visual features of $x(t)$ relate to the values and signs of the parameters in $\\dot{x}$? Think of boundaries, rate of increases/decreases of $x(t)$)\n",
    "4. Plot and note how the following graphs relate to each other:\n",
    "    - $x$ vs $\\dot{x}$\n",
    "    - $t$ vs $\\dot{x}$\n",
    "    - $t$ vs $x(t)$\n",
    "\n",
    "Finally, add some of the terms in each ODE together. Are there interesting shapes the solutions take?"
   ]
  },
  {
   "cell_type": "markdown",
   "id": "2c639910-b3b5-4257-879e-d9e7c74e5d0d",
   "metadata": {},
   "source": [
    "---"
   ]
  },
  {
   "cell_type": "markdown",
   "id": "708b16e9-ff70-47db-9b63-5bd13390821f",
   "metadata": {},
   "source": [
    "## Section 1: I'm comfortable with fundamentals and want to explore more (Integrate and Fire Neuron Models)"
   ]
  },
  {
   "cell_type": "markdown",
   "id": "27629c09-6df7-4745-afdd-6edbb6f776b9",
   "metadata": {},
   "source": [
    "<div>\n",
    "<img src=\"./images/03_1_spikes.png\" width=\"600\">\n",
    "</div>\n"
   ]
  },
  {
   "cell_type": "markdown",
   "id": "fc9d77d3-d441-482b-b8d9-53f74d55850e",
   "metadata": {},
   "source": [
    "The figure above (from page 151 of \"Neuronal Dynamics: From Single Neurons to Networks and Models of Cognition\" by Gerstner et. al.) contains several examples of firing patterns in cortical neurons. Given your experience modeling a LIF model, you may have realized the LIF model is quite limited in its ability to recreate features of the patterns above.\n",
    "\n",
    "In the following three mini-projects, you will implement:\n",
    "1. Nonlinear Integrate and Fire Models\n",
    "2. Integrate and Fire Models with Adaptation\n",
    "3. Nonlinear Integrate and Fire Models with Adaptation"
   ]
  },
  {
   "cell_type": "markdown",
   "id": "38f048c6-b9ca-4b65-9be8-4e321fdbdd7b",
   "metadata": {},
   "source": [
    "---"
   ]
  },
  {
   "cell_type": "markdown",
   "id": "de6f57bc-d5a7-4b66-8ee0-c417fafb07d8",
   "metadata": {},
   "source": [
    "### Section 1.1: Nonlinear Integrate and Fire Models"
   ]
  },
  {
   "cell_type": "markdown",
   "id": "3f6e172d-ee40-4f34-9985-9b2f89f60ce8",
   "metadata": {},
   "source": [
    "The general form of integrate and fire models is\n",
    "\n",
    "- $ \\tau \\frac{dV(t)}{dt} = f(V) + RI(t) $\n",
    "- If $ V(t) = V_{th}$, then $ V(t + dt) = V_{reset} $\n",
    "\n",
    "You can see how this fits the form of the leaky integrate and fire model, where $ f(V) = -(V-V_{rest}). $ (In our experience, $V_{rest} = E_L$ )"
   ]
  },
  {
   "cell_type": "markdown",
   "id": "d40fd1ea-9abc-4770-b36e-a8345ebb57ed",
   "metadata": {},
   "source": [
    "The **Exponential Integrate and Fire** model is:\n",
    "\n",
    "- $ \\tau \\frac{dV(t)}{dt} = -(V - V_{rest}) + \\Delta_T \\exp(\\frac{V - \\vartheta_{rh}}{\\Delta_T}) + RI(t) $\n",
    "- If $ V(t) = V_{th}$, then $ V(t + dt) = V_{reset} $\n",
    "- Refractory time for $ 0 < \\Delta^{abs} < 5ms $ before integration begins again\n",
    "\n",
    "Where you can see that this is the same as the general form, where $f(V) = -(V - V_{rest}) + \\Delta_T \\exp(\\frac{V - \\vartheta_{rh}}{\\Delta_T})$\n",
    "\n",
    "- If threshold $V_{th} >> \\vartheta + \\Delta_T$ , then its exact value does not play a role\n",
    "- $\\Delta_T$ is the \"sharpness\" parameter\n",
    "- $\\vartheta_{rh}$ is the \"threshold\" parameter"
   ]
  },
  {
   "cell_type": "markdown",
   "id": "3bbdcd79-13c7-4759-8760-2d38a31906cd",
   "metadata": {},
   "source": [
    "---"
   ]
  },
  {
   "cell_type": "markdown",
   "id": "0167afa7-335e-4c3e-ab03-f91afeecdeed",
   "metadata": {
    "tags": []
   },
   "source": [
    "#### Mini-Project 1.1: Repeat LIF Tutorial on Exponential Integrate and Fire Model"
   ]
  },
  {
   "cell_type": "markdown",
   "id": "93f1a6c3-def0-47e9-8c5d-f3bcc27fbba3",
   "metadata": {},
   "source": [
    "Do the following to characterize the exponential integrate and fire model\n",
    "\n",
    "0. Think about the model parameters. What is your prediction of the impact of changing the parameters $\\Delta_T$ and $\\vartheta_{rh}$?\n",
    "1. Implement a function that simulates the model given some current input. Plot and Compare to LIF.\n",
    "    1. Plots should be of:\n",
    "        1. $t$ vs $V$ \n",
    "        2. $t$ vs $\\frac{dV}{dt}$\n",
    "    2. Try plots for a few settings of $\\Delta_T$, starting from 1 and approaching 0. How does $\\Delta_T$ impact the simulation?\n",
    "    3. Try plots for a few settings of $\\vartheta_{rh}$. How does $\\vartheta_{rh}$ impact the simulation?\n",
    "2. Plot F-I curves for current inputs with various noise settings. Compare to LIF.\n",
    "    1. Do the simulation parameters, $\\Delta_T$ and $\\vartheta_{rh}$, impact F-I curves?\n",
    "3. Plot ISI histograms for varying current input magnitudes and noise settings. Compare to LIF.\n",
    "    1. Do the simulation parameters, $\\Delta_T$ and $\\vartheta_{rh}$, impact ISI histograms?\n",
    "4. Plot CV as a function of current input magnitude and noise settings. Compare to LIF.\n",
    "    1. Do the simulation parameters, $\\Delta_T$ and $\\vartheta_{rh}$, impact CV?"
   ]
  },
  {
   "cell_type": "markdown",
   "id": "7548b1bd-b9c7-4066-a3f7-3441bd5fb565",
   "metadata": {},
   "source": [
    "##### Bonus 1.1.1: Repeat LIF Tutorial on Quadratic Integrate and Fire Model"
   ]
  },
  {
   "cell_type": "markdown",
   "id": "7aee1238-73ef-4b04-9ba7-96e1ba36292e",
   "metadata": {},
   "source": [
    "Repeat the mini-project instructions with a **Quadratic Integrate and Fire** model, where:\n",
    "- $f(V) = a_0(V-V_{rest})(V-V_c)$ \n",
    "- $a_0 > 0$\n",
    "- $V_c > V_{rest}$, and it is interpreted as the critical voltage for spike initiation by a short current pulse"
   ]
  },
  {
   "cell_type": "markdown",
   "id": "c08664a1-3362-45cd-8d38-4a688a9b33d3",
   "metadata": {},
   "source": [
    "##### Bonus 1.1.2: Thinking about rheobase in the Exponential Integrate and Fire Model"
   ]
  },
  {
   "cell_type": "markdown",
   "id": "e77015cd-e7ef-4f71-ad23-0807cfb9f408",
   "metadata": {},
   "source": [
    "Find the rheobase current, $I_c$ for the exponential integrate and fire model.\n",
    "1. Plot $\\frac{dV}{dt}$ as a function of V\n",
    "    1. Use the introduction to 1-D dynamical systems analysis to give an explanation for why the rheobase current in an exponential integrate and fire model might be different from the rheobase current in LIF models.\n",
    "2. Analytically find $I_c$\n",
    "3. Numerically find $I_c$"
   ]
  },
  {
   "cell_type": "markdown",
   "id": "282ee4c8-35d6-4a05-9804-d196f2f76213",
   "metadata": {},
   "source": [
    "---"
   ]
  },
  {
   "cell_type": "markdown",
   "id": "36be2e3d-a453-4a2b-bd0e-0fde37d09f48",
   "metadata": {},
   "source": [
    "### Section 1.2: Integrate and Fire Models with Adaptation"
   ]
  },
  {
   "cell_type": "markdown",
   "id": "1c3d4d07-5032-4815-8487-b01fdee36bad",
   "metadata": {},
   "source": [
    "Return to the figure at the beginning of Section 2 to study the voltage traces with adaptation. It seems that adaptation depends on whether the neuron was spiking before or not. This is a form of \"memory\" in the cell, where an unseen process keeps track of if the neuron was firing before, resulting in this adaptation feature.\n",
    "\n",
    "A general integrate and fire model with adaptation has the form:\n",
    "- $\\tau_m \\frac{dV}{dt} = f(V) + R\\Sigma_k w_k + RI$\n",
    "- $\\tau_k \\frac{w_k}{dt} = a_k(V-V_{rest}) - w_k + b \\tau_w \\Sigma_{t^f} \\delta(t - t^f)$\n",
    "- If $ V(t) = V_{th}$, then $ V(t + dt) = V_{reset} $\n",
    "\n",
    "Where:\n",
    "- $w_k$ represents the adaptation current variables, and each are described by unique differential equations. For the mini-projects below, only use one adaptation current variable.\n",
    "- $\\tau_m$, $\\tau_k$, and $\\tau_w$ represent time constants of the membrane voltage change, the adaptation current change, and voltage coupling to the adaptation current.\n",
    "- $a_k$ is a model parameter couples adaptation to the membrane voltage\n",
    "- $b$ is a model parameter that determines how much $w_k$ increases with each spike"
   ]
  },
  {
   "cell_type": "markdown",
   "id": "d086dc89-4e34-4dce-8e43-4f0a21f52cfe",
   "metadata": {},
   "source": [
    "---"
   ]
  },
  {
   "cell_type": "markdown",
   "id": "0581c289-c5da-414d-b1ad-e69d139733b9",
   "metadata": {},
   "source": [
    "#### Mini-Project 1.2: Repeat LIF Tutorial on a LIF Model with Adaptation"
   ]
  },
  {
   "cell_type": "markdown",
   "id": "72ecedd4-0095-4a2c-8c64-309832ec4f6c",
   "metadata": {},
   "source": [
    "A LIF model with Adaptation takes the same form as the general integrate and fire model with adaptation, where $f(V) = -(V-V_{rest})$.\n",
    "\n",
    "Do the following using the LIF model with Adaption (See prompt for Miniproject 2.1 for the more elaborated instructions):\n",
    "1. Implement a function that simulates the model given some current input. Plot and Compare to LIF.\n",
    "2. Plot F-I curves for current inputs with various noise settings. Compare to LIF.\n",
    "3. Plot ISI histograms for varying current input magnitudes and noise settings. Compare to LIF.\n",
    "4. Plot CV as a function of current input magnitude and noise settings. Compare to LIF.\n",
    "\n",
    "How do the parameters $a$ and $b$ impact the simulation?\n",
    "\n"
   ]
  },
  {
   "cell_type": "markdown",
   "id": "3ade81e5-3078-42c2-af9a-df76e5f16cf6",
   "metadata": {},
   "source": [
    "---"
   ]
  },
  {
   "cell_type": "markdown",
   "id": "db1d02cc-0875-4607-b5be-f717bb5be5b4",
   "metadata": {},
   "source": [
    "### Section 2: I want to explore some things we hinted at but didn't go into detail (Repeat LIF Tutorial on AdEx and Izhikevich models)"
   ]
  },
  {
   "cell_type": "markdown",
   "id": "70f5b48b-0dd7-4669-a256-75d3c2df013d",
   "metadata": {},
   "source": [
    "If you completed 1.1, 1.2 and wanted more, then try this section. \n",
    "\n",
    "\n"
   ]
  },
  {
   "cell_type": "markdown",
   "id": "e42e1760-5349-4108-bafb-91011bc34419",
   "metadata": {},
   "source": [
    "---"
   ]
  },
  {
   "cell_type": "markdown",
   "id": "f42ffb14-d384-4494-a53b-32a254d30f3f",
   "metadata": {},
   "source": [
    "#### Mini-Project 2.1: Analyze AdEx Model"
   ]
  },
  {
   "cell_type": "markdown",
   "id": "cf047946-c05a-4528-b74a-cbfd47c087ef",
   "metadata": {},
   "source": [
    "Combining the exponential integrate and fire model with adaptation yields the **AdEx Model**. It takes the following form:\n",
    "\n",
    "- $\\tau_m \\frac{dV}{dt} = -(V-V_{rest}) + \\Delta_T \\exp(\\frac{V - \\vartheta_{rh}}{\\Delta_T}) - Rw +  RI(t)$\n",
    "- $\\tau \\frac{w}{dt} = a_k(V-V_{rest}) - w + b \\tau_w \\Sigma_{t^f} \\delta(t - t^f)$\n",
    "- If $ V(t) = V_{th}$, then $ V(t + dt) = V_{reset} $\n",
    "\n",
    "Repeat the LIF Tutorial instructions in Mini-Project 1.1 and Mini-Project 1.2. Feel free to compare to any other models you've implemented."
   ]
  },
  {
   "cell_type": "markdown",
   "id": "92b562d8-e734-4210-845b-7733ffb84108",
   "metadata": {},
   "source": [
    "---"
   ]
  },
  {
   "cell_type": "markdown",
   "id": "8faccbf0-e359-4a8d-a94c-1f9d4fa5f1dc",
   "metadata": {},
   "source": [
    "#### Mini-Project 2.2: Analyze Izhikevich Model"
   ]
  },
  {
   "cell_type": "markdown",
   "id": "86bbd710-a720-45bb-97a4-83fe020575a5",
   "metadata": {},
   "source": [
    "Combining the quadratic integrate and fire model with adaptation yields the **Izhikevich Model**. It takes the following form:\n",
    "- $\\tau_m \\frac{dV}{dt} = (V-V_{rest})(V-\\vartheta) - Rw +  RI(t)$\n",
    "- $\\tau_w \\frac{w}{dt} = a(V-V_{rest}) - w + b \\tau_w \\Sigma_{t^f} \\delta(t - t^f)$\n",
    "- If $ V(t) = V_{th}$, then $ V(t + dt) = V_{reset} $\n",
    "\n",
    "Repeat the LIF Tutorial instructions in Mini-Project 1.1 and Mini-Project 1.2. Feel free to compare to any other models you've implemented."
   ]
  },
  {
   "cell_type": "markdown",
   "id": "c88c97c0-a011-4799-b093-8709dc845fcb",
   "metadata": {},
   "source": [
    "---"
   ]
  },
  {
   "cell_type": "markdown",
   "id": "125aa7eb-a8c2-4072-945e-1ff5a5995085",
   "metadata": {},
   "source": [
    "# Section 3: Give me something challenging! (Hodgkin-Huxley Models)"
   ]
  },
  {
   "cell_type": "markdown",
   "id": "8b184e6c-a163-4a0a-9883-8a42af877ffe",
   "metadata": {},
   "source": [
    "### The Hodgkin-Huxley (HH) Model Equations are as follows:\n",
    "\n",
    "1. $C \\frac{dV}{dt} = -\\Sigma_k I_k(t) + I(t)$\n",
    "\n",
    "where $\\Sigma_k I_k$ corresponds to the sum of the ion channel currents. For HH Model it is:\n",
    "\n",
    "2. $ \\Sigma_k I_k(t) = g_{Na}m^3h(V - E_{Na}) + g_Kn^4(V - E_K) + g_L(V - EL) $\n",
    "\n",
    "The three gating variables m, n, h evolve accoding to differential equations of the form:\n",
    "\n",
    "3. $\\dot{x} = - \\frac{1}{\\tau_x(v)}[x-x_0(V)]$\n",
    "\n",
    "where $\\dot{x} = \\frac{dx}{dt}$ and $x$ stands for $m$, $n$, or $h$.\n",
    "\n",
    "The channel gating formulation can be expressed as:\n",
    "\n",
    "4. $\\dot{m} = \\alpha_m(V)(1-m) - \\beta_m(V)m$\n",
    "\n",
    "5. $\\dot{n} = \\alpha_n(V)(1-n) - \\beta_n(V)m$\n",
    "\n",
    "6. $\\dot{h} = \\alpha_h(V)(1-h) - \\beta_h(V)m$"
   ]
  },
  {
   "cell_type": "markdown",
   "id": "1f6460f4-9d6d-43ba-bcb5-e9ec3901ac93",
   "metadata": {},
   "source": [
    "The parameter values for reversal potentials $E_x$ and conductances $g_x$ are in the image below.\n",
    "\n",
    "Also, the functions for $\\alpha_x(V)$ and $\\beta_x(V)$, where $x$ corresponds to $n, m,$ and $h$, can be found in the image below as well. \n",
    "\n",
    "($u$ is the notation for membrane voltage $V$, in Neural Dynamics by Gerstner et.al.) \n",
    "\n",
    "(Be careful about typos in your implementation!)"
   ]
  },
  {
   "cell_type": "markdown",
   "id": "a5b6b0c5-3ef7-4e27-8687-ebe80162f6de",
   "metadata": {},
   "source": [
    "<div>\n",
    "<img src=\"./images/03_2_alpha_beta.jpeg\" width=\"600\">\n",
    "</div>"
   ]
  },
  {
   "cell_type": "markdown",
   "id": "7b4fa12b-5036-4733-8539-53ffac7960b5",
   "metadata": {},
   "source": [
    "### Project 3.1: Implement a single-compartment HH Model"
   ]
  },
  {
   "cell_type": "markdown",
   "id": "cd0eba3c-7ece-4b42-85ed-6267b24594ec",
   "metadata": {},
   "source": [
    "Simulate a 1-compartment HH model.\n",
    "1. Plot every aspect of the model as it changes over time ($V(t), \\frac{dV}{dt}, n, m, h)$\n",
    "2. Devise a way to determine the spike times and calculate ISIs\n",
    "3. Plot an FI-curve.\n",
    "4. Come up with a way to measure the refractory period from the HH voltage trace.\n",
    "5. Numerically calculate the rheobase. Does this model exhibit adaptation?\n",
    "6. Compare to LIF. Can LIF parameters be adjusted to approximate the HH voltage trace output or spike times?\n",
    "7. Set the random seed and add noise to the model.\n",
    "    - How does this affect the FI-curve and rheobase?"
   ]
  },
  {
   "cell_type": "code",
   "execution_count": 1,
   "id": "2c9956cb-922e-4d82-ab5f-13d45b52ffb2",
   "metadata": {},
   "outputs": [],
   "source": []
  },
  {
   "cell_type": "code",
   "execution_count": null,
   "id": "5238d5e7-a580-4c6f-9908-cd84c71478cc",
   "metadata": {},
   "outputs": [],
   "source": []
  }
 ],
 "metadata": {
  "kernelspec": {
   "display_name": "Python 3 (ipykernel)",
   "language": "python",
   "name": "python3"
  },
  "language_info": {
   "codemirror_mode": {
    "name": "ipython",
    "version": 3
   },
   "file_extension": ".py",
   "mimetype": "text/x-python",
   "name": "python",
   "nbconvert_exporter": "python",
   "pygments_lexer": "ipython3",
   "version": "3.9.18"
  }
 },
 "nbformat": 4,
 "nbformat_minor": 5
}
